{
 "cells": [
  {
   "cell_type": "markdown",
   "metadata": {},
   "source": [
    "## Dictionary"
   ]
  },
  {
   "cell_type": "code",
   "execution_count": 1,
   "metadata": {},
   "outputs": [
    {
     "name": "stdout",
     "output_type": "stream",
     "text": [
      "3\n",
      "as\n"
     ]
    }
   ],
   "source": [
    "# list stores data using index\n",
    "a = [1,2,3,4]\n",
    "b = ['a', 'b','hahah', 'as']\n",
    "\n",
    "# so you can retrieve data using index\n",
    "print(a[2])\n",
    "print(b[3])"
   ]
  },
  {
   "cell_type": "code",
   "execution_count": 2,
   "metadata": {},
   "outputs": [
    {
     "data": {
      "text/plain": [
       "21"
      ]
     },
     "execution_count": 2,
     "metadata": {},
     "output_type": "execute_result"
    }
   ],
   "source": [
    "# dictionary (dict) using key to restores data\n",
    "# dict {key: value}\n",
    "dic = {'name': 'Chris', 'age':21, 'weight': 72}\n",
    "\n",
    "# so you can retrieve data using key\n",
    "dic['age']"
   ]
  },
  {
   "cell_type": "code",
   "execution_count": 3,
   "metadata": {},
   "outputs": [
    {
     "data": {
      "text/html": [
       "<div>\n",
       "<style scoped>\n",
       "    .dataframe tbody tr th:only-of-type {\n",
       "        vertical-align: middle;\n",
       "    }\n",
       "\n",
       "    .dataframe tbody tr th {\n",
       "        vertical-align: top;\n",
       "    }\n",
       "\n",
       "    .dataframe thead th {\n",
       "        text-align: right;\n",
       "    }\n",
       "</style>\n",
       "<table border=\"1\" class=\"dataframe\">\n",
       "  <thead>\n",
       "    <tr style=\"text-align: right;\">\n",
       "      <th></th>\n",
       "      <th>Age</th>\n",
       "      <th>Gender</th>\n",
       "      <th>OwnHome</th>\n",
       "      <th>Married</th>\n",
       "      <th>Location</th>\n",
       "      <th>Salary</th>\n",
       "      <th>Children</th>\n",
       "      <th>History</th>\n",
       "      <th>Catalogs</th>\n",
       "      <th>AmountSpent</th>\n",
       "      <th>Gender_b</th>\n",
       "      <th>Married_b</th>\n",
       "      <th>Location_b</th>\n",
       "      <th>Ownhome_b</th>\n",
       "      <th>Age_y</th>\n",
       "      <th>Age_m</th>\n",
       "      <th>Hist_m</th>\n",
       "      <th>Hist_h</th>\n",
       "    </tr>\n",
       "  </thead>\n",
       "  <tbody>\n",
       "    <tr>\n",
       "      <th>0</th>\n",
       "      <td>Old</td>\n",
       "      <td>Female</td>\n",
       "      <td>Own</td>\n",
       "      <td>Single</td>\n",
       "      <td>Far</td>\n",
       "      <td>47500</td>\n",
       "      <td>0</td>\n",
       "      <td>High</td>\n",
       "      <td>6</td>\n",
       "      <td>755</td>\n",
       "      <td>1</td>\n",
       "      <td>0</td>\n",
       "      <td>0</td>\n",
       "      <td>1</td>\n",
       "      <td>0</td>\n",
       "      <td>0</td>\n",
       "      <td>0</td>\n",
       "      <td>1</td>\n",
       "    </tr>\n",
       "    <tr>\n",
       "      <th>1</th>\n",
       "      <td>Middle</td>\n",
       "      <td>Male</td>\n",
       "      <td>Rent</td>\n",
       "      <td>Single</td>\n",
       "      <td>Close</td>\n",
       "      <td>63600</td>\n",
       "      <td>0</td>\n",
       "      <td>High</td>\n",
       "      <td>6</td>\n",
       "      <td>1318</td>\n",
       "      <td>0</td>\n",
       "      <td>0</td>\n",
       "      <td>1</td>\n",
       "      <td>0</td>\n",
       "      <td>0</td>\n",
       "      <td>1</td>\n",
       "      <td>0</td>\n",
       "      <td>1</td>\n",
       "    </tr>\n",
       "    <tr>\n",
       "      <th>2</th>\n",
       "      <td>Young</td>\n",
       "      <td>Female</td>\n",
       "      <td>Rent</td>\n",
       "      <td>Single</td>\n",
       "      <td>Close</td>\n",
       "      <td>13500</td>\n",
       "      <td>0</td>\n",
       "      <td>Low</td>\n",
       "      <td>18</td>\n",
       "      <td>296</td>\n",
       "      <td>1</td>\n",
       "      <td>0</td>\n",
       "      <td>1</td>\n",
       "      <td>0</td>\n",
       "      <td>1</td>\n",
       "      <td>0</td>\n",
       "      <td>0</td>\n",
       "      <td>0</td>\n",
       "    </tr>\n",
       "    <tr>\n",
       "      <th>3</th>\n",
       "      <td>Middle</td>\n",
       "      <td>Male</td>\n",
       "      <td>Own</td>\n",
       "      <td>Married</td>\n",
       "      <td>Close</td>\n",
       "      <td>85600</td>\n",
       "      <td>1</td>\n",
       "      <td>High</td>\n",
       "      <td>18</td>\n",
       "      <td>2436</td>\n",
       "      <td>0</td>\n",
       "      <td>1</td>\n",
       "      <td>1</td>\n",
       "      <td>1</td>\n",
       "      <td>0</td>\n",
       "      <td>1</td>\n",
       "      <td>0</td>\n",
       "      <td>1</td>\n",
       "    </tr>\n",
       "    <tr>\n",
       "      <th>4</th>\n",
       "      <td>Middle</td>\n",
       "      <td>Female</td>\n",
       "      <td>Own</td>\n",
       "      <td>Single</td>\n",
       "      <td>Close</td>\n",
       "      <td>68400</td>\n",
       "      <td>0</td>\n",
       "      <td>High</td>\n",
       "      <td>12</td>\n",
       "      <td>1304</td>\n",
       "      <td>1</td>\n",
       "      <td>0</td>\n",
       "      <td>1</td>\n",
       "      <td>1</td>\n",
       "      <td>0</td>\n",
       "      <td>1</td>\n",
       "      <td>0</td>\n",
       "      <td>1</td>\n",
       "    </tr>\n",
       "  </tbody>\n",
       "</table>\n",
       "</div>"
      ],
      "text/plain": [
       "      Age  Gender OwnHome  Married Location  Salary  Children History  \\\n",
       "0     Old  Female     Own   Single      Far   47500         0    High   \n",
       "1  Middle    Male    Rent   Single    Close   63600         0    High   \n",
       "2   Young  Female    Rent   Single    Close   13500         0     Low   \n",
       "3  Middle    Male     Own  Married    Close   85600         1    High   \n",
       "4  Middle  Female     Own   Single    Close   68400         0    High   \n",
       "\n",
       "   Catalogs  AmountSpent  Gender_b  Married_b  Location_b  Ownhome_b  Age_y  \\\n",
       "0         6          755         1          0           0          1      0   \n",
       "1         6         1318         0          0           1          0      0   \n",
       "2        18          296         1          0           1          0      1   \n",
       "3        18         2436         0          1           1          1      0   \n",
       "4        12         1304         1          0           1          1      0   \n",
       "\n",
       "   Age_m  Hist_m  Hist_h  \n",
       "0      0       0       1  \n",
       "1      1       0       1  \n",
       "2      0       0       0  \n",
       "3      1       0       1  \n",
       "4      1       0       1  "
      ]
     },
     "execution_count": 3,
     "metadata": {},
     "output_type": "execute_result"
    }
   ],
   "source": [
    "import pandas as pd\n",
    "\n",
    "marketing = pd.read_csv('DirectMarketing.csv')\n",
    "\n",
    "# Remember this dataset?\n",
    "marketing.head()"
   ]
  },
  {
   "cell_type": "markdown",
   "metadata": {},
   "source": [
    "## Aggregating data"
   ]
  },
  {
   "cell_type": "code",
   "execution_count": 4,
   "metadata": {},
   "outputs": [],
   "source": [
    "# get the means of each of the groups in \"Age\"\n",
    "# we can filter our data through boolean indexing\n",
    "old = marketing[marketing[\"Age\"] == \"Old\"]\n",
    "middle = marketing[marketing[\"Age\"] == \"Middle\"]\n",
    "young = marketing[marketing[\"Age\"] == \"Young\"]\n"
   ]
  },
  {
   "cell_type": "code",
   "execution_count": 5,
   "metadata": {},
   "outputs": [
    {
     "name": "stdout",
     "output_type": "stream",
     "text": [
      "Salary         56365.853659\n",
      "Children           0.136585\n",
      "Catalogs          15.160976\n",
      "AmountSpent     1432.126829\n",
      "Gender_b           0.629268\n",
      "Married_b          0.624390\n",
      "Location_b         0.697561\n",
      "Ownhome_b          0.726829\n",
      "Age_y              0.000000\n",
      "Age_m              0.000000\n",
      "Hist_m             0.243902\n",
      "Hist_h             0.395122\n",
      "dtype: float64\n",
      "Salary         72036.417323\n",
      "Children           1.187008\n",
      "Catalogs          15.425197\n",
      "AmountSpent     1501.690945\n",
      "Gender_b           0.405512\n",
      "Married_b          0.578740\n",
      "Location_b         0.728346\n",
      "Ownhome_b          0.639764\n",
      "Age_y              0.000000\n",
      "Age_m              1.000000\n",
      "Hist_m             0.250000\n",
      "Hist_h             0.328740\n",
      "dtype: float64\n",
      "Salary         27715.679443\n",
      "Children           1.055749\n",
      "Catalogs          13.024390\n",
      "AmountSpent      558.623693\n",
      "Gender_b           0.595819\n",
      "Married_b          0.278746\n",
      "Location_b         0.686411\n",
      "Ownhome_b          0.146341\n",
      "Age_y              1.000000\n",
      "Age_m              0.000000\n",
      "Hist_m             0.121951\n",
      "Hist_h             0.024390\n",
      "dtype: float64\n"
     ]
    }
   ],
   "source": [
    "print(old.mean())\n",
    "print(middle.mean())\n",
    "print(young.mean())\n",
    "\n",
    "# you can do this because age category is small,\n",
    "# what if it goes 1000 catagories?"
   ]
  },
  {
   "cell_type": "code",
   "execution_count": 6,
   "metadata": {},
   "outputs": [],
   "source": [
    "# we create a new DF, that splits the marketing DF according to the different groups of Age\n",
    "age_group = marketing.groupby(\"Age\")"
   ]
  },
  {
   "cell_type": "code",
   "execution_count": 7,
   "metadata": {},
   "outputs": [
    {
     "name": "stdout",
     "output_type": "stream",
     "text": [
      "<class 'pandas.core.groupby.generic.DataFrameGroupBy'>\n",
      "<class 'pandas.core.frame.DataFrame'>\n"
     ]
    }
   ],
   "source": [
    "# it is actually a new datatype \"DataFrameGroupBy\"\n",
    "print(type(age_group))\n",
    "print(type(marketing))"
   ]
  },
  {
   "cell_type": "code",
   "execution_count": 8,
   "metadata": {},
   "outputs": [
    {
     "data": {
      "text/html": [
       "<div>\n",
       "<style scoped>\n",
       "    .dataframe tbody tr th:only-of-type {\n",
       "        vertical-align: middle;\n",
       "    }\n",
       "\n",
       "    .dataframe tbody tr th {\n",
       "        vertical-align: top;\n",
       "    }\n",
       "\n",
       "    .dataframe thead th {\n",
       "        text-align: right;\n",
       "    }\n",
       "</style>\n",
       "<table border=\"1\" class=\"dataframe\">\n",
       "  <thead>\n",
       "    <tr style=\"text-align: right;\">\n",
       "      <th></th>\n",
       "      <th>Age</th>\n",
       "      <th>Gender</th>\n",
       "      <th>OwnHome</th>\n",
       "      <th>Married</th>\n",
       "      <th>Location</th>\n",
       "      <th>Salary</th>\n",
       "      <th>Children</th>\n",
       "      <th>History</th>\n",
       "      <th>Catalogs</th>\n",
       "      <th>AmountSpent</th>\n",
       "      <th>Gender_b</th>\n",
       "      <th>Married_b</th>\n",
       "      <th>Location_b</th>\n",
       "      <th>Ownhome_b</th>\n",
       "      <th>Age_y</th>\n",
       "      <th>Age_m</th>\n",
       "      <th>Hist_m</th>\n",
       "      <th>Hist_h</th>\n",
       "    </tr>\n",
       "  </thead>\n",
       "  <tbody>\n",
       "    <tr>\n",
       "      <th>0</th>\n",
       "      <td>Old</td>\n",
       "      <td>Female</td>\n",
       "      <td>Own</td>\n",
       "      <td>Single</td>\n",
       "      <td>Far</td>\n",
       "      <td>47500</td>\n",
       "      <td>0</td>\n",
       "      <td>High</td>\n",
       "      <td>6</td>\n",
       "      <td>755</td>\n",
       "      <td>1</td>\n",
       "      <td>0</td>\n",
       "      <td>0</td>\n",
       "      <td>1</td>\n",
       "      <td>0</td>\n",
       "      <td>0</td>\n",
       "      <td>0</td>\n",
       "      <td>1</td>\n",
       "    </tr>\n",
       "    <tr>\n",
       "      <th>1</th>\n",
       "      <td>Middle</td>\n",
       "      <td>Male</td>\n",
       "      <td>Rent</td>\n",
       "      <td>Single</td>\n",
       "      <td>Close</td>\n",
       "      <td>63600</td>\n",
       "      <td>0</td>\n",
       "      <td>High</td>\n",
       "      <td>6</td>\n",
       "      <td>1318</td>\n",
       "      <td>0</td>\n",
       "      <td>0</td>\n",
       "      <td>1</td>\n",
       "      <td>0</td>\n",
       "      <td>0</td>\n",
       "      <td>1</td>\n",
       "      <td>0</td>\n",
       "      <td>1</td>\n",
       "    </tr>\n",
       "    <tr>\n",
       "      <th>2</th>\n",
       "      <td>Young</td>\n",
       "      <td>Female</td>\n",
       "      <td>Rent</td>\n",
       "      <td>Single</td>\n",
       "      <td>Close</td>\n",
       "      <td>13500</td>\n",
       "      <td>0</td>\n",
       "      <td>Low</td>\n",
       "      <td>18</td>\n",
       "      <td>296</td>\n",
       "      <td>1</td>\n",
       "      <td>0</td>\n",
       "      <td>1</td>\n",
       "      <td>0</td>\n",
       "      <td>1</td>\n",
       "      <td>0</td>\n",
       "      <td>0</td>\n",
       "      <td>0</td>\n",
       "    </tr>\n",
       "    <tr>\n",
       "      <th>3</th>\n",
       "      <td>Middle</td>\n",
       "      <td>Male</td>\n",
       "      <td>Own</td>\n",
       "      <td>Married</td>\n",
       "      <td>Close</td>\n",
       "      <td>85600</td>\n",
       "      <td>1</td>\n",
       "      <td>High</td>\n",
       "      <td>18</td>\n",
       "      <td>2436</td>\n",
       "      <td>0</td>\n",
       "      <td>1</td>\n",
       "      <td>1</td>\n",
       "      <td>1</td>\n",
       "      <td>0</td>\n",
       "      <td>1</td>\n",
       "      <td>0</td>\n",
       "      <td>1</td>\n",
       "    </tr>\n",
       "    <tr>\n",
       "      <th>4</th>\n",
       "      <td>Middle</td>\n",
       "      <td>Female</td>\n",
       "      <td>Own</td>\n",
       "      <td>Single</td>\n",
       "      <td>Close</td>\n",
       "      <td>68400</td>\n",
       "      <td>0</td>\n",
       "      <td>High</td>\n",
       "      <td>12</td>\n",
       "      <td>1304</td>\n",
       "      <td>1</td>\n",
       "      <td>0</td>\n",
       "      <td>1</td>\n",
       "      <td>1</td>\n",
       "      <td>0</td>\n",
       "      <td>1</td>\n",
       "      <td>0</td>\n",
       "      <td>1</td>\n",
       "    </tr>\n",
       "    <tr>\n",
       "      <th>5</th>\n",
       "      <td>Young</td>\n",
       "      <td>Male</td>\n",
       "      <td>Own</td>\n",
       "      <td>Married</td>\n",
       "      <td>Close</td>\n",
       "      <td>30400</td>\n",
       "      <td>0</td>\n",
       "      <td>Low</td>\n",
       "      <td>6</td>\n",
       "      <td>495</td>\n",
       "      <td>0</td>\n",
       "      <td>1</td>\n",
       "      <td>1</td>\n",
       "      <td>1</td>\n",
       "      <td>1</td>\n",
       "      <td>0</td>\n",
       "      <td>0</td>\n",
       "      <td>0</td>\n",
       "    </tr>\n",
       "    <tr>\n",
       "      <th>6</th>\n",
       "      <td>Middle</td>\n",
       "      <td>Female</td>\n",
       "      <td>Rent</td>\n",
       "      <td>Single</td>\n",
       "      <td>Close</td>\n",
       "      <td>48100</td>\n",
       "      <td>0</td>\n",
       "      <td>Medium</td>\n",
       "      <td>12</td>\n",
       "      <td>782</td>\n",
       "      <td>1</td>\n",
       "      <td>0</td>\n",
       "      <td>1</td>\n",
       "      <td>0</td>\n",
       "      <td>0</td>\n",
       "      <td>1</td>\n",
       "      <td>1</td>\n",
       "      <td>0</td>\n",
       "    </tr>\n",
       "    <tr>\n",
       "      <th>7</th>\n",
       "      <td>Middle</td>\n",
       "      <td>Male</td>\n",
       "      <td>Own</td>\n",
       "      <td>Single</td>\n",
       "      <td>Close</td>\n",
       "      <td>68400</td>\n",
       "      <td>0</td>\n",
       "      <td>High</td>\n",
       "      <td>18</td>\n",
       "      <td>1155</td>\n",
       "      <td>0</td>\n",
       "      <td>0</td>\n",
       "      <td>1</td>\n",
       "      <td>1</td>\n",
       "      <td>0</td>\n",
       "      <td>1</td>\n",
       "      <td>0</td>\n",
       "      <td>1</td>\n",
       "    </tr>\n",
       "    <tr>\n",
       "      <th>9</th>\n",
       "      <td>Old</td>\n",
       "      <td>Male</td>\n",
       "      <td>Own</td>\n",
       "      <td>Married</td>\n",
       "      <td>Far</td>\n",
       "      <td>80700</td>\n",
       "      <td>0</td>\n",
       "      <td>NaN</td>\n",
       "      <td>18</td>\n",
       "      <td>3034</td>\n",
       "      <td>0</td>\n",
       "      <td>1</td>\n",
       "      <td>0</td>\n",
       "      <td>1</td>\n",
       "      <td>0</td>\n",
       "      <td>0</td>\n",
       "      <td>0</td>\n",
       "      <td>0</td>\n",
       "    </tr>\n",
       "    <tr>\n",
       "      <th>10</th>\n",
       "      <td>Young</td>\n",
       "      <td>Male</td>\n",
       "      <td>Rent</td>\n",
       "      <td>Married</td>\n",
       "      <td>Close</td>\n",
       "      <td>43700</td>\n",
       "      <td>1</td>\n",
       "      <td>NaN</td>\n",
       "      <td>12</td>\n",
       "      <td>927</td>\n",
       "      <td>0</td>\n",
       "      <td>1</td>\n",
       "      <td>1</td>\n",
       "      <td>0</td>\n",
       "      <td>1</td>\n",
       "      <td>0</td>\n",
       "      <td>0</td>\n",
       "      <td>0</td>\n",
       "    </tr>\n",
       "    <tr>\n",
       "      <th>14</th>\n",
       "      <td>Old</td>\n",
       "      <td>Female</td>\n",
       "      <td>Own</td>\n",
       "      <td>Married</td>\n",
       "      <td>Far</td>\n",
       "      <td>110000</td>\n",
       "      <td>0</td>\n",
       "      <td>High</td>\n",
       "      <td>24</td>\n",
       "      <td>5564</td>\n",
       "      <td>1</td>\n",
       "      <td>1</td>\n",
       "      <td>0</td>\n",
       "      <td>1</td>\n",
       "      <td>0</td>\n",
       "      <td>0</td>\n",
       "      <td>0</td>\n",
       "      <td>1</td>\n",
       "    </tr>\n",
       "    <tr>\n",
       "      <th>16</th>\n",
       "      <td>Old</td>\n",
       "      <td>Female</td>\n",
       "      <td>Own</td>\n",
       "      <td>Married</td>\n",
       "      <td>Close</td>\n",
       "      <td>82800</td>\n",
       "      <td>0</td>\n",
       "      <td>High</td>\n",
       "      <td>24</td>\n",
       "      <td>3010</td>\n",
       "      <td>1</td>\n",
       "      <td>1</td>\n",
       "      <td>1</td>\n",
       "      <td>1</td>\n",
       "      <td>0</td>\n",
       "      <td>0</td>\n",
       "      <td>0</td>\n",
       "      <td>1</td>\n",
       "    </tr>\n",
       "    <tr>\n",
       "      <th>19</th>\n",
       "      <td>Old</td>\n",
       "      <td>Female</td>\n",
       "      <td>Rent</td>\n",
       "      <td>Single</td>\n",
       "      <td>Far</td>\n",
       "      <td>14000</td>\n",
       "      <td>0</td>\n",
       "      <td>Low</td>\n",
       "      <td>12</td>\n",
       "      <td>410</td>\n",
       "      <td>1</td>\n",
       "      <td>0</td>\n",
       "      <td>0</td>\n",
       "      <td>0</td>\n",
       "      <td>0</td>\n",
       "      <td>0</td>\n",
       "      <td>0</td>\n",
       "      <td>0</td>\n",
       "    </tr>\n",
       "    <tr>\n",
       "      <th>20</th>\n",
       "      <td>Young</td>\n",
       "      <td>Female</td>\n",
       "      <td>Rent</td>\n",
       "      <td>Single</td>\n",
       "      <td>Far</td>\n",
       "      <td>14300</td>\n",
       "      <td>2</td>\n",
       "      <td>Low</td>\n",
       "      <td>6</td>\n",
       "      <td>194</td>\n",
       "      <td>1</td>\n",
       "      <td>0</td>\n",
       "      <td>0</td>\n",
       "      <td>0</td>\n",
       "      <td>1</td>\n",
       "      <td>0</td>\n",
       "      <td>0</td>\n",
       "      <td>0</td>\n",
       "    </tr>\n",
       "    <tr>\n",
       "      <th>21</th>\n",
       "      <td>Young</td>\n",
       "      <td>Male</td>\n",
       "      <td>Rent</td>\n",
       "      <td>Married</td>\n",
       "      <td>Close</td>\n",
       "      <td>49800</td>\n",
       "      <td>0</td>\n",
       "      <td>Medium</td>\n",
       "      <td>12</td>\n",
       "      <td>827</td>\n",
       "      <td>0</td>\n",
       "      <td>1</td>\n",
       "      <td>1</td>\n",
       "      <td>0</td>\n",
       "      <td>1</td>\n",
       "      <td>0</td>\n",
       "      <td>1</td>\n",
       "      <td>0</td>\n",
       "    </tr>\n",
       "  </tbody>\n",
       "</table>\n",
       "</div>"
      ],
      "text/plain": [
       "       Age  Gender OwnHome  Married Location  Salary  Children History  \\\n",
       "0      Old  Female     Own   Single      Far   47500         0    High   \n",
       "1   Middle    Male    Rent   Single    Close   63600         0    High   \n",
       "2    Young  Female    Rent   Single    Close   13500         0     Low   \n",
       "3   Middle    Male     Own  Married    Close   85600         1    High   \n",
       "4   Middle  Female     Own   Single    Close   68400         0    High   \n",
       "5    Young    Male     Own  Married    Close   30400         0     Low   \n",
       "6   Middle  Female    Rent   Single    Close   48100         0  Medium   \n",
       "7   Middle    Male     Own   Single    Close   68400         0    High   \n",
       "9      Old    Male     Own  Married      Far   80700         0     NaN   \n",
       "10   Young    Male    Rent  Married    Close   43700         1     NaN   \n",
       "14     Old  Female     Own  Married      Far  110000         0    High   \n",
       "16     Old  Female     Own  Married    Close   82800         0    High   \n",
       "19     Old  Female    Rent   Single      Far   14000         0     Low   \n",
       "20   Young  Female    Rent   Single      Far   14300         2     Low   \n",
       "21   Young    Male    Rent  Married    Close   49800         0  Medium   \n",
       "\n",
       "    Catalogs  AmountSpent  Gender_b  Married_b  Location_b  Ownhome_b  Age_y  \\\n",
       "0          6          755         1          0           0          1      0   \n",
       "1          6         1318         0          0           1          0      0   \n",
       "2         18          296         1          0           1          0      1   \n",
       "3         18         2436         0          1           1          1      0   \n",
       "4         12         1304         1          0           1          1      0   \n",
       "5          6          495         0          1           1          1      1   \n",
       "6         12          782         1          0           1          0      0   \n",
       "7         18         1155         0          0           1          1      0   \n",
       "9         18         3034         0          1           0          1      0   \n",
       "10        12          927         0          1           1          0      1   \n",
       "14        24         5564         1          1           0          1      0   \n",
       "16        24         3010         1          1           1          1      0   \n",
       "19        12          410         1          0           0          0      0   \n",
       "20         6          194         1          0           0          0      1   \n",
       "21        12          827         0          1           1          0      1   \n",
       "\n",
       "    Age_m  Hist_m  Hist_h  \n",
       "0       0       0       1  \n",
       "1       1       0       1  \n",
       "2       0       0       0  \n",
       "3       1       0       1  \n",
       "4       1       0       1  \n",
       "5       0       0       0  \n",
       "6       1       1       0  \n",
       "7       1       0       1  \n",
       "9       0       0       0  \n",
       "10      0       0       0  \n",
       "14      0       0       1  \n",
       "16      0       0       1  \n",
       "19      0       0       0  \n",
       "20      0       0       0  \n",
       "21      0       1       0  "
      ]
     },
     "execution_count": 8,
     "metadata": {},
     "output_type": "execute_result"
    }
   ],
   "source": [
    "# DataFrameGroupBy shares a lot of functions with a normal DF, but with slight differences\n",
    "# the head() gets the first 5 rows of EACH group\n",
    "# a lot functions operate on the groups separately\n",
    "age_group.head()"
   ]
  },
  {
   "cell_type": "code",
   "execution_count": 9,
   "metadata": {},
   "outputs": [
    {
     "data": {
      "text/html": [
       "<div>\n",
       "<style scoped>\n",
       "    .dataframe tbody tr th:only-of-type {\n",
       "        vertical-align: middle;\n",
       "    }\n",
       "\n",
       "    .dataframe tbody tr th {\n",
       "        vertical-align: top;\n",
       "    }\n",
       "\n",
       "    .dataframe thead th {\n",
       "        text-align: right;\n",
       "    }\n",
       "</style>\n",
       "<table border=\"1\" class=\"dataframe\">\n",
       "  <thead>\n",
       "    <tr style=\"text-align: right;\">\n",
       "      <th></th>\n",
       "      <th>Salary</th>\n",
       "      <th>Children</th>\n",
       "      <th>Catalogs</th>\n",
       "      <th>AmountSpent</th>\n",
       "      <th>Gender_b</th>\n",
       "      <th>Married_b</th>\n",
       "      <th>Location_b</th>\n",
       "      <th>Ownhome_b</th>\n",
       "      <th>Age_y</th>\n",
       "      <th>Age_m</th>\n",
       "      <th>Hist_m</th>\n",
       "      <th>Hist_h</th>\n",
       "    </tr>\n",
       "    <tr>\n",
       "      <th>Age</th>\n",
       "      <th></th>\n",
       "      <th></th>\n",
       "      <th></th>\n",
       "      <th></th>\n",
       "      <th></th>\n",
       "      <th></th>\n",
       "      <th></th>\n",
       "      <th></th>\n",
       "      <th></th>\n",
       "      <th></th>\n",
       "      <th></th>\n",
       "      <th></th>\n",
       "    </tr>\n",
       "  </thead>\n",
       "  <tbody>\n",
       "    <tr>\n",
       "      <th>Middle</th>\n",
       "      <td>72036.417323</td>\n",
       "      <td>1.187008</td>\n",
       "      <td>15.425197</td>\n",
       "      <td>1501.690945</td>\n",
       "      <td>0.405512</td>\n",
       "      <td>0.578740</td>\n",
       "      <td>0.728346</td>\n",
       "      <td>0.639764</td>\n",
       "      <td>0.0</td>\n",
       "      <td>1.0</td>\n",
       "      <td>0.250000</td>\n",
       "      <td>0.328740</td>\n",
       "    </tr>\n",
       "    <tr>\n",
       "      <th>Old</th>\n",
       "      <td>56365.853659</td>\n",
       "      <td>0.136585</td>\n",
       "      <td>15.160976</td>\n",
       "      <td>1432.126829</td>\n",
       "      <td>0.629268</td>\n",
       "      <td>0.624390</td>\n",
       "      <td>0.697561</td>\n",
       "      <td>0.726829</td>\n",
       "      <td>0.0</td>\n",
       "      <td>0.0</td>\n",
       "      <td>0.243902</td>\n",
       "      <td>0.395122</td>\n",
       "    </tr>\n",
       "    <tr>\n",
       "      <th>Young</th>\n",
       "      <td>27715.679443</td>\n",
       "      <td>1.055749</td>\n",
       "      <td>13.024390</td>\n",
       "      <td>558.623693</td>\n",
       "      <td>0.595819</td>\n",
       "      <td>0.278746</td>\n",
       "      <td>0.686411</td>\n",
       "      <td>0.146341</td>\n",
       "      <td>1.0</td>\n",
       "      <td>0.0</td>\n",
       "      <td>0.121951</td>\n",
       "      <td>0.024390</td>\n",
       "    </tr>\n",
       "  </tbody>\n",
       "</table>\n",
       "</div>"
      ],
      "text/plain": [
       "              Salary  Children   Catalogs  AmountSpent  Gender_b  Married_b  \\\n",
       "Age                                                                           \n",
       "Middle  72036.417323  1.187008  15.425197  1501.690945  0.405512   0.578740   \n",
       "Old     56365.853659  0.136585  15.160976  1432.126829  0.629268   0.624390   \n",
       "Young   27715.679443  1.055749  13.024390   558.623693  0.595819   0.278746   \n",
       "\n",
       "        Location_b  Ownhome_b  Age_y  Age_m    Hist_m    Hist_h  \n",
       "Age                                                              \n",
       "Middle    0.728346   0.639764    0.0    1.0  0.250000  0.328740  \n",
       "Old       0.697561   0.726829    0.0    0.0  0.243902  0.395122  \n",
       "Young     0.686411   0.146341    1.0    0.0  0.121951  0.024390  "
      ]
     },
     "execution_count": 9,
     "metadata": {},
     "output_type": "execute_result"
    }
   ],
   "source": [
    "# the groupby() is used for summarising each groups statistics (mean(), median(), std() etc)\n",
    "# calculate the mean of each group of \"AGE\" for each column\n",
    "age_group.mean()"
   ]
  },
  {
   "cell_type": "code",
   "execution_count": 10,
   "metadata": {},
   "outputs": [
    {
     "data": {
      "text/plain": [
       "Salary         56103.900\n",
       "Children           0.934\n",
       "Catalogs          14.682\n",
       "AmountSpent     1216.770\n",
       "Gender_b           0.506\n",
       "Married_b          0.502\n",
       "Location_b         0.710\n",
       "Ownhome_b          0.516\n",
       "Age_y              0.287\n",
       "Age_m              0.508\n",
       "Hist_m             0.212\n",
       "Hist_h             0.255\n",
       "dtype: float64"
      ]
     },
     "execution_count": 10,
     "metadata": {},
     "output_type": "execute_result"
    }
   ],
   "source": [
    "# note it is different from the raw data mean\n",
    "marketing.mean()"
   ]
  },
  {
   "cell_type": "code",
   "execution_count": 11,
   "metadata": {},
   "outputs": [
    {
     "data": {
      "text/plain": [
       "Age\n",
       "Middle    72036.417323\n",
       "Old       56365.853659\n",
       "Young     27715.679443\n",
       "Name: Salary, dtype: float64"
      ]
     },
     "execution_count": 11,
     "metadata": {},
     "output_type": "execute_result"
    }
   ],
   "source": [
    "# get the mean Salary\n",
    "# age_group.mean() is another DF, with the row labels (indexs) the name of each group\n",
    "age_group.mean()[\"Salary\"]"
   ]
  },
  {
   "cell_type": "code",
   "execution_count": 12,
   "metadata": {},
   "outputs": [
    {
     "name": "stdout",
     "output_type": "stream",
     "text": [
      "{'Middle': Int64Index([  1,   3,   4,   6,   7,   8,  11,  12,  13,  15,\n",
      "            ...\n",
      "            981, 982, 985, 988, 989, 990, 992, 993, 996, 998],\n",
      "           dtype='int64', length=508), 'Old': Int64Index([  0,   9,  14,  16,  19,  22,  30,  38,  39,  43,\n",
      "            ...\n",
      "            956, 960, 966, 971, 980, 984, 986, 987, 991, 997],\n",
      "           dtype='int64', length=205), 'Young': Int64Index([  2,   5,  10,  20,  21,  23,  24,  29,  47,  57,\n",
      "            ...\n",
      "            950, 958, 962, 965, 970, 974, 983, 994, 995, 999],\n",
      "           dtype='int64', length=287)}\n"
     ]
    }
   ],
   "source": [
    "# show which rows belong to each group\n",
    "# result is a dict\n",
    "# with keys of the names of the groups\n",
    "# values, being a list of the indexs \n",
    "print(age_group.groups)"
   ]
  },
  {
   "cell_type": "code",
   "execution_count": 13,
   "metadata": {},
   "outputs": [
    {
     "data": {
      "text/plain": [
       "dict_keys(['Middle', 'Old', 'Young'])"
      ]
     },
     "execution_count": 13,
     "metadata": {},
     "output_type": "execute_result"
    }
   ],
   "source": [
    "# get the keys of each group\n",
    "age_group.groups.keys()"
   ]
  },
  {
   "cell_type": "code",
   "execution_count": 14,
   "metadata": {},
   "outputs": [],
   "source": [
    "# groupby() doesn't do anything by itself, only does something when you use a summarising fn()"
   ]
  },
  {
   "cell_type": "markdown",
   "metadata": {},
   "source": [
    "### Merging tables/data"
   ]
  },
  {
   "cell_type": "code",
   "execution_count": 15,
   "metadata": {},
   "outputs": [
    {
     "data": {
      "text/html": [
       "<div>\n",
       "<style scoped>\n",
       "    .dataframe tbody tr th:only-of-type {\n",
       "        vertical-align: middle;\n",
       "    }\n",
       "\n",
       "    .dataframe tbody tr th {\n",
       "        vertical-align: top;\n",
       "    }\n",
       "\n",
       "    .dataframe thead th {\n",
       "        text-align: right;\n",
       "    }\n",
       "</style>\n",
       "<table border=\"1\" class=\"dataframe\">\n",
       "  <thead>\n",
       "    <tr style=\"text-align: right;\">\n",
       "      <th></th>\n",
       "      <th>People</th>\n",
       "      <th>Lunch</th>\n",
       "    </tr>\n",
       "  </thead>\n",
       "  <tbody>\n",
       "    <tr>\n",
       "      <th>0</th>\n",
       "      <td>Kelvin</td>\n",
       "      <td>Sushi</td>\n",
       "    </tr>\n",
       "    <tr>\n",
       "      <th>1</th>\n",
       "      <td>Haonan</td>\n",
       "      <td>Cheeseburger</td>\n",
       "    </tr>\n",
       "    <tr>\n",
       "      <th>2</th>\n",
       "      <td>Daniel</td>\n",
       "      <td>Pizza</td>\n",
       "    </tr>\n",
       "  </tbody>\n",
       "</table>\n",
       "</div>"
      ],
      "text/plain": [
       "   People         Lunch\n",
       "0  Kelvin         Sushi\n",
       "1  Haonan  Cheeseburger\n",
       "2  Daniel         Pizza"
      ]
     },
     "execution_count": 15,
     "metadata": {},
     "output_type": "execute_result"
    }
   ],
   "source": [
    "# create a raw data using dict\n",
    "lunch_data = {'People': ['Kelvin', 'Haonan', 'Daniel'], \n",
    "                      'Lunch': ['Sushi', 'Cheeseburger', 'Pizza']}\n",
    "\n",
    "# warp dict into a pd data frame\n",
    "lunch = pd.DataFrame(lunch_data)\n",
    "lunch"
   ]
  },
  {
   "cell_type": "code",
   "execution_count": 16,
   "metadata": {},
   "outputs": [
    {
     "data": {
      "text/html": [
       "<div>\n",
       "<style scoped>\n",
       "    .dataframe tbody tr th:only-of-type {\n",
       "        vertical-align: middle;\n",
       "    }\n",
       "\n",
       "    .dataframe tbody tr th {\n",
       "        vertical-align: top;\n",
       "    }\n",
       "\n",
       "    .dataframe thead th {\n",
       "        text-align: right;\n",
       "    }\n",
       "</style>\n",
       "<table border=\"1\" class=\"dataframe\">\n",
       "  <thead>\n",
       "    <tr style=\"text-align: right;\">\n",
       "      <th></th>\n",
       "      <th>People</th>\n",
       "      <th>Dinner</th>\n",
       "    </tr>\n",
       "  </thead>\n",
       "  <tbody>\n",
       "    <tr>\n",
       "      <th>0</th>\n",
       "      <td>Kelvin</td>\n",
       "      <td>Ramen</td>\n",
       "    </tr>\n",
       "    <tr>\n",
       "      <th>1</th>\n",
       "      <td>Haonan</td>\n",
       "      <td>Salad</td>\n",
       "    </tr>\n",
       "    <tr>\n",
       "      <th>2</th>\n",
       "      <td>Annabelle</td>\n",
       "      <td>Thai</td>\n",
       "    </tr>\n",
       "  </tbody>\n",
       "</table>\n",
       "</div>"
      ],
      "text/plain": [
       "      People Dinner\n",
       "0     Kelvin  Ramen\n",
       "1     Haonan  Salad\n",
       "2  Annabelle   Thai"
      ]
     },
     "execution_count": 16,
     "metadata": {},
     "output_type": "execute_result"
    }
   ],
   "source": [
    "dinner = pd.DataFrame({'People': ['Kelvin', 'Haonan', 'Annabelle'], \n",
    "                       'Dinner': ['Ramen', 'Salad', 'Thai']})\n",
    "dinner"
   ]
  },
  {
   "cell_type": "code",
   "execution_count": 17,
   "metadata": {},
   "outputs": [
    {
     "data": {
      "text/html": [
       "<div>\n",
       "<style scoped>\n",
       "    .dataframe tbody tr th:only-of-type {\n",
       "        vertical-align: middle;\n",
       "    }\n",
       "\n",
       "    .dataframe tbody tr th {\n",
       "        vertical-align: top;\n",
       "    }\n",
       "\n",
       "    .dataframe thead th {\n",
       "        text-align: right;\n",
       "    }\n",
       "</style>\n",
       "<table border=\"1\" class=\"dataframe\">\n",
       "  <thead>\n",
       "    <tr style=\"text-align: right;\">\n",
       "      <th></th>\n",
       "      <th>People</th>\n",
       "      <th>Lunch</th>\n",
       "      <th>Dinner</th>\n",
       "    </tr>\n",
       "  </thead>\n",
       "  <tbody>\n",
       "    <tr>\n",
       "      <th>0</th>\n",
       "      <td>Kelvin</td>\n",
       "      <td>Sushi</td>\n",
       "      <td>Ramen</td>\n",
       "    </tr>\n",
       "    <tr>\n",
       "      <th>1</th>\n",
       "      <td>Haonan</td>\n",
       "      <td>Cheeseburger</td>\n",
       "      <td>Salad</td>\n",
       "    </tr>\n",
       "    <tr>\n",
       "      <th>2</th>\n",
       "      <td>Daniel</td>\n",
       "      <td>Pizza</td>\n",
       "      <td>NaN</td>\n",
       "    </tr>\n",
       "    <tr>\n",
       "      <th>3</th>\n",
       "      <td>Annabelle</td>\n",
       "      <td>NaN</td>\n",
       "      <td>Thai</td>\n",
       "    </tr>\n",
       "  </tbody>\n",
       "</table>\n",
       "</div>"
      ],
      "text/plain": [
       "      People         Lunch Dinner\n",
       "0     Kelvin         Sushi  Ramen\n",
       "1     Haonan  Cheeseburger  Salad\n",
       "2     Daniel         Pizza    NaN\n",
       "3  Annabelle           NaN   Thai"
      ]
     },
     "execution_count": 17,
     "metadata": {},
     "output_type": "execute_result"
    }
   ],
   "source": [
    "# outter -> union: if data only appear in one table, store 'NaN' in other table in joint table\n",
    "combined = lunch.merge(dinner,how=\"outer\")\n",
    "combined"
   ]
  },
  {
   "cell_type": "code",
   "execution_count": 18,
   "metadata": {},
   "outputs": [
    {
     "data": {
      "text/html": [
       "<div>\n",
       "<style scoped>\n",
       "    .dataframe tbody tr th:only-of-type {\n",
       "        vertical-align: middle;\n",
       "    }\n",
       "\n",
       "    .dataframe tbody tr th {\n",
       "        vertical-align: top;\n",
       "    }\n",
       "\n",
       "    .dataframe thead th {\n",
       "        text-align: right;\n",
       "    }\n",
       "</style>\n",
       "<table border=\"1\" class=\"dataframe\">\n",
       "  <thead>\n",
       "    <tr style=\"text-align: right;\">\n",
       "      <th></th>\n",
       "      <th>People</th>\n",
       "      <th>Lunch</th>\n",
       "      <th>Dinner</th>\n",
       "    </tr>\n",
       "  </thead>\n",
       "  <tbody>\n",
       "    <tr>\n",
       "      <th>0</th>\n",
       "      <td>Kelvin</td>\n",
       "      <td>Sushi</td>\n",
       "      <td>Ramen</td>\n",
       "    </tr>\n",
       "    <tr>\n",
       "      <th>1</th>\n",
       "      <td>Haonan</td>\n",
       "      <td>Cheeseburger</td>\n",
       "      <td>Salad</td>\n",
       "    </tr>\n",
       "  </tbody>\n",
       "</table>\n",
       "</div>"
      ],
      "text/plain": [
       "   People         Lunch Dinner\n",
       "0  Kelvin         Sushi  Ramen\n",
       "1  Haonan  Cheeseburger  Salad"
      ]
     },
     "execution_count": 18,
     "metadata": {},
     "output_type": "execute_result"
    }
   ],
   "source": [
    "# inner -> intersection: if data only appear in one table, it won't be stored in joint table\n",
    "combined = lunch.merge(dinner,how=\"inner\")\n",
    "combined"
   ]
  },
  {
   "cell_type": "markdown",
   "metadata": {},
   "source": [
    "### API's"
   ]
  },
  {
   "cell_type": "code",
   "execution_count": 19,
   "metadata": {},
   "outputs": [],
   "source": [
    "# an interface that allows us to get data from remote \n",
    "# location or external party.\n",
    "\n",
    "# E.g. when you signup for a website, you get the option of \"Sign up with FB\"\n",
    "# the website asks FB's for FB's information about you, using FB's login API\n",
    "# this allows the website to get email address, profile pic etc that is stored\n",
    "# at FB\n",
    "\n",
    "# this means the website doesn't have to store this information themselves\n",
    "# and rather just have FB to look after the data\n",
    "# but you need this API in order to communicate to FB's database"
   ]
  },
  {
   "cell_type": "code",
   "execution_count": 20,
   "metadata": {},
   "outputs": [],
   "source": [
    "# in practice, the API is a url with a query asking for the specific information"
   ]
  },
  {
   "cell_type": "code",
   "execution_count": 21,
   "metadata": {},
   "outputs": [
    {
     "name": "stdout",
     "output_type": "stream",
     "text": [
      "Enter city name : Sydney\n",
      "http://api.openweathermap.org/data/2.5/weather?appid=491a9ec8e8da3febdea1b7e83c2e9ed3&q=Sydney\n"
     ]
    }
   ],
   "source": [
    "# authtoken to access the dataset\n",
    "api_key = '491a9ec8e8da3febdea1b7e83c2e9ed3'\n",
    "\n",
    "# public domain address for dataset\n",
    "base_url = \"http://api.openweathermap.org/data/2.5/weather?\" \n",
    "\n",
    "# just for query input\n",
    "city_name = input(\"Enter city name : \")\n",
    "\n",
    "# '?' to start the query\n",
    "# '&' for mulitple query, order doesn't matter\n",
    "# '=' assign the query value\n",
    "url = base_url + \"appid=\" + api_key + \"&q=\" + city_name\n",
    "\n",
    "print(url)"
   ]
  },
  {
   "cell_type": "code",
   "execution_count": 22,
   "metadata": {},
   "outputs": [
    {
     "name": "stdout",
     "output_type": "stream",
     "text": [
      "{'coord': {'lon': 151.22, 'lat': -33.85}, 'weather': [{'id': 521, 'main': 'Rain', 'description': 'shower rain', 'icon': '09n'}], 'base': 'stations', 'main': {'temp': 286.7, 'pressure': 1021, 'humidity': 87, 'temp_min': 285.37, 'temp_max': 288.15}, 'visibility': 10000, 'wind': {'speed': 7.7, 'deg': 180}, 'clouds': {'all': 40}, 'dt': 1566894168, 'sys': {'type': 1, 'id': 9600, 'message': 0.0077, 'country': 'AU', 'sunrise': 1566850863, 'sunset': 1566891190}, 'timezone': 36000, 'id': 2147714, 'name': 'Sydney', 'cod': 200}\n"
     ]
    }
   ],
   "source": [
    "# we want to store the data from the \"GET\" request into python\n",
    "import requests, json\n",
    "# this is equivalent to typing the url into the address bar\n",
    "response = requests.get(url)\n",
    "\n",
    "# converts the data into a \"human readable\" format\n",
    "# converts the data into a json type\n",
    "# a json is a string representation of a dict\n",
    "x = response.json() \n",
    "\n",
    "print(x)"
   ]
  },
  {
   "cell_type": "code",
   "execution_count": 23,
   "metadata": {},
   "outputs": [
    {
     "name": "stdout",
     "output_type": "stream",
     "text": [
      "{'lon': 151.22, 'lat': -33.85}\n",
      "151.22\n"
     ]
    }
   ],
   "source": [
    "print(x['coord']) # store a dict into a dict\n",
    "print(x['coord']['lon']) # get lon value by keys"
   ]
  },
  {
   "cell_type": "code",
   "execution_count": 24,
   "metadata": {},
   "outputs": [
    {
     "name": "stdout",
     "output_type": "stream",
     "text": [
      "[{'id': 521, 'main': 'Rain', 'description': 'shower rain', 'icon': '09n'}]\n",
      "{'id': 521, 'main': 'Rain', 'description': 'shower rain', 'icon': '09n'}\n",
      "shower rain\n"
     ]
    }
   ],
   "source": [
    "print(x['weather']) # store a list into a dict\n",
    "print(x['weather'][0]) # store a dict as first element (index = 0) into a list\n",
    "print(x['weather'][0]['description']) # get description"
   ]
  },
  {
   "cell_type": "markdown",
   "metadata": {},
   "source": [
    "### Exercise 3"
   ]
  },
  {
   "cell_type": "code",
   "execution_count": 28,
   "metadata": {},
   "outputs": [
    {
     "name": "stdout",
     "output_type": "stream",
     "text": [
      "Enter lat: \n",
      "Enter lon: \n",
      "http://api.openweathermap.org/data/2.5/weather?lat=&lon=&appid=491a9ec8e8da3febdea1b7e83c2e9ed3\n"
     ]
    }
   ],
   "source": [
    "lat = input('Enter lat: ')\n",
    "lon = input('Enter lon: ')\n",
    "base_url = 'http://api.openweathermap.org/data/2.5/weather?'\n",
    "query = 'lat='+ lat + \"&lon=\" + lon + \"&appid=\" + api_key\n",
    "url = base_url + query\n",
    "print(url)"
   ]
  },
  {
   "cell_type": "code",
   "execution_count": 29,
   "metadata": {},
   "outputs": [
    {
     "name": "stdout",
     "output_type": "stream",
     "text": [
      "{'cod': '400', 'message': 'undefined is not a float'}\n"
     ]
    }
   ],
   "source": [
    "# get python to make a GET request at the url\n",
    "response = requests.get(url)\n",
    "x = response.json() \n",
    "\n",
    "print(x)"
   ]
  },
  {
   "cell_type": "code",
   "execution_count": 30,
   "metadata": {},
   "outputs": [
    {
     "ename": "KeyError",
     "evalue": "'name'",
     "output_type": "error",
     "traceback": [
      "\u001b[0;31m---------------------------------------------------------------------------\u001b[0m",
      "\u001b[0;31mKeyError\u001b[0m                                  Traceback (most recent call last)",
      "\u001b[0;32m<ipython-input-30-b173e90e3b79>\u001b[0m in \u001b[0;36m<module>\u001b[0;34m\u001b[0m\n\u001b[0;32m----> 1\u001b[0;31m \u001b[0mx\u001b[0m\u001b[0;34m[\u001b[0m\u001b[0;34m\"name\"\u001b[0m\u001b[0;34m]\u001b[0m\u001b[0;34m\u001b[0m\u001b[0;34m\u001b[0m\u001b[0m\n\u001b[0m",
      "\u001b[0;31mKeyError\u001b[0m: 'name'"
     ]
    }
   ],
   "source": [
    "x[\"name\"]"
   ]
  },
  {
   "cell_type": "code",
   "execution_count": 50,
   "metadata": {},
   "outputs": [
    {
     "data": {
      "text/plain": [
       "'400'"
      ]
     },
     "execution_count": 50,
     "metadata": {},
     "output_type": "execute_result"
    }
   ],
   "source": [
    "# is the HTTP status code\n",
    "# tells the request you've made is a success or not\n",
    "# 200 ---> request has succeeded (got some data)\n",
    "# 404 ---> the url doesn't exist or we've made a bad query\n",
    "x[\"cod\"]"
   ]
  },
  {
   "cell_type": "code",
   "execution_count": null,
   "metadata": {},
   "outputs": [],
   "source": [
    "# install\n",
    "pip install quandl\n",
    "\n",
    "# you can install yourself\n",
    "# install quandl by 'conda install -c anaconda quandl' in terminal (macos) or anaconda promt(windows)"
   ]
  },
  {
   "cell_type": "code",
   "execution_count": 31,
   "metadata": {},
   "outputs": [
    {
     "ename": "ModuleNotFoundError",
     "evalue": "No module named 'quandl'",
     "output_type": "error",
     "traceback": [
      "\u001b[1;31m---------------------------------------------------------------------------\u001b[0m",
      "\u001b[1;31mModuleNotFoundError\u001b[0m                       Traceback (most recent call last)",
      "\u001b[1;32m<ipython-input-31-1aa074231101>\u001b[0m in \u001b[0;36m<module>\u001b[1;34m()\u001b[0m\n\u001b[0;32m      1\u001b[0m \u001b[1;31m# perform API calls on financial data using qandls database\u001b[0m\u001b[1;33m\u001b[0m\u001b[1;33m\u001b[0m\u001b[0m\n\u001b[1;32m----> 2\u001b[1;33m \u001b[1;32mimport\u001b[0m \u001b[0mquandl\u001b[0m\u001b[1;33m\u001b[0m\u001b[0m\n\u001b[0m\u001b[0;32m      3\u001b[0m \u001b[1;33m\u001b[0m\u001b[0m\n\u001b[0;32m      4\u001b[0m \u001b[0mapi_key\u001b[0m \u001b[1;33m=\u001b[0m \u001b[1;34m'QV43tMteJEMB4s1__FbP'\u001b[0m\u001b[1;33m\u001b[0m\u001b[0m\n\u001b[0;32m      5\u001b[0m \u001b[1;33m\u001b[0m\u001b[0m\n",
      "\u001b[1;31mModuleNotFoundError\u001b[0m: No module named 'quandl'"
     ]
    }
   ],
   "source": [
    "import quandl\n",
    "\n",
    "api_key = 'QV43tMteJEMB4s1__FbP'\n",
    "\n",
    "# this method automatically constructs the url (query)\n",
    "# and then performs the GET request at that url\n",
    "fb_data = quandl.get(\"WIKI/FB\", \n",
    "                     trim_start = \"2017-12-12\", \n",
    "                     trim_end = \"2018-12-30\", \n",
    "                     authtoken=api_key)\n",
    "\n",
    "fb_data.head()\n",
    "\n",
    "# play around time series example https://docs.quandl.com/docs/python-time-series"
   ]
  },
  {
   "cell_type": "markdown",
   "metadata": {},
   "source": [
    "## Bar charts"
   ]
  },
  {
   "cell_type": "code",
   "execution_count": 32,
   "metadata": {},
   "outputs": [
    {
     "data": {
      "text/html": [
       "<div>\n",
       "<style scoped>\n",
       "    .dataframe tbody tr th:only-of-type {\n",
       "        vertical-align: middle;\n",
       "    }\n",
       "\n",
       "    .dataframe tbody tr th {\n",
       "        vertical-align: top;\n",
       "    }\n",
       "\n",
       "    .dataframe thead th {\n",
       "        text-align: right;\n",
       "    }\n",
       "</style>\n",
       "<table border=\"1\" class=\"dataframe\">\n",
       "  <thead>\n",
       "    <tr style=\"text-align: right;\">\n",
       "      <th></th>\n",
       "      <th>Age</th>\n",
       "      <th>Male</th>\n",
       "      <th>Female</th>\n",
       "      <th>Total</th>\n",
       "    </tr>\n",
       "  </thead>\n",
       "  <tbody>\n",
       "    <tr>\n",
       "      <th>0</th>\n",
       "      <td>Young</td>\n",
       "      <td>1783</td>\n",
       "      <td>1950</td>\n",
       "      <td>3733</td>\n",
       "    </tr>\n",
       "    <tr>\n",
       "      <th>1</th>\n",
       "      <td>Middle</td>\n",
       "      <td>2289</td>\n",
       "      <td>2320</td>\n",
       "      <td>4609</td>\n",
       "    </tr>\n",
       "    <tr>\n",
       "      <th>2</th>\n",
       "      <td>Old</td>\n",
       "      <td>1032</td>\n",
       "      <td>1491</td>\n",
       "      <td>2523</td>\n",
       "    </tr>\n",
       "  </tbody>\n",
       "</table>\n",
       "</div>"
      ],
      "text/plain": [
       "      Age  Male  Female  Total\n",
       "0   Young  1783    1950   3733\n",
       "1  Middle  2289    2320   4609\n",
       "2     Old  1032    1491   2523"
      ]
     },
     "execution_count": 32,
     "metadata": {},
     "output_type": "execute_result"
    }
   ],
   "source": [
    "# make raw data with dict\n",
    "data = {'Age': ['Young','Middle','Old'],\n",
    "        'Male': [1783,2289,1032],\n",
    "        'Female': [1950,2320,1491],\n",
    "        'Total': [3733,4609,2523]\n",
    "        }\n",
    "\n",
    "# warp data from dict into a pd data frame\n",
    "df = pd.DataFrame(data,columns= ['Age', 'Male', 'Female','Total'])\n",
    "\n",
    "df.head()"
   ]
  },
  {
   "cell_type": "code",
   "execution_count": 33,
   "metadata": {},
   "outputs": [
    {
     "data": {
      "text/plain": [
       "0    3733\n",
       "1    4609\n",
       "2    2523\n",
       "Name: Total, dtype: int64"
      ]
     },
     "execution_count": 33,
     "metadata": {},
     "output_type": "execute_result"
    }
   ],
   "source": [
    "# this is of type Series\n",
    "# Series has 2 columns\n",
    "# LHS is the index or the key of each row\n",
    "# RHS is the value for each of those keys\n",
    "df['Total']"
   ]
  },
  {
   "cell_type": "code",
   "execution_count": 34,
   "metadata": {},
   "outputs": [
    {
     "data": {
      "text/plain": [
       "RangeIndex(start=0, stop=3, step=1)"
      ]
     },
     "execution_count": 34,
     "metadata": {},
     "output_type": "execute_result"
    }
   ],
   "source": [
    "# gets the labels\n",
    "df['Total'].index"
   ]
  },
  {
   "cell_type": "code",
   "execution_count": 38,
   "metadata": {},
   "outputs": [
    {
     "name": "stdout",
     "output_type": "stream",
     "text": [
      "<class 'pandas.core.series.Series'>\n",
      "<class 'numpy.ndarray'>\n"
     ]
    }
   ],
   "source": [
    "# data frame \n",
    "print(type(df['Total']))\n",
    "# get the numpy value that python can deal with it\n",
    "print(type(df['Total'].values))"
   ]
  },
  {
   "cell_type": "code",
   "execution_count": 42,
   "metadata": {},
   "outputs": [
    {
     "data": {
      "text/plain": [
       "array([1, 3, 5, 7, 9])"
      ]
     },
     "execution_count": 42,
     "metadata": {},
     "output_type": "execute_result"
    }
   ],
   "source": [
    "# numpy range\n",
    "import numpy as np\n",
    "np.arange(start=1, stop =10, step =2)"
   ]
  },
  {
   "cell_type": "code",
   "execution_count": 46,
   "metadata": {},
   "outputs": [
    {
     "data": {
      "image/png": "[encoded data removed]",
      "text/plain": [
       "<Figure size 432x288 with 1 Axes>"
      ]
     },
     "metadata": {
      "needs_background": "light"
     },
     "output_type": "display_data"
    }
   ],
   "source": [
    "%matplotlib inline\n",
    "\n",
    "# math lib\n",
    "import numpy as np\n",
    "\n",
    "# visualization lib\n",
    "import matplotlib.pyplot as plt\n",
    "\n",
    "# numpy range\n",
    "# e.g. np.arange(start=1, stop =10, step =2)\n",
    "# get the numpy value that python can deal with it\n",
    "total = df['Total'].values\n",
    "\n",
    "# it creates an array starting from 0 up until len(total)-1,\n",
    "x_pos = np.arange(len(total))\n",
    "\n",
    "# x = x_pos, y = total\n",
    "plt.bar(x_pos, total, align='center')\n",
    "\n",
    "# replace 0,1,2 to ('Young', 'Middle', 'Old')\n",
    "plt.xticks(x_pos, ('Young', 'Middle', 'Old'))\n",
    "\n",
    "# add labels and title\n",
    "plt.ylabel('Total Population')\n",
    "plt.title('Population by Age Bracket')\n",
    " \n",
    "plt.show()"
   ]
  },
  {
   "cell_type": "markdown",
   "metadata": {},
   "source": [
    "### Task 1"
   ]
  },
  {
   "cell_type": "code",
   "execution_count": 47,
   "metadata": {},
   "outputs": [
    {
     "name": "stdout",
     "output_type": "stream",
     "text": [
      "Age\n",
      "Middle    1501.690945\n",
      "Old       1432.126829\n",
      "Young      558.623693\n",
      "Name: AmountSpent, dtype: float64\n"
     ]
    }
   ],
   "source": [
    "# task 1-1\n",
    "# step 1: load the dataset\n",
    "file = pd.read_csv('DirectMarketing.csv')\n",
    "# step 2: use the .groupby() to get the age groups \n",
    "age_group = file.groupby('Age')\n",
    "# step 3: get the mean and the column AmountSpent for that mean (y value)\n",
    "result = age_group['AmountSpent'].mean()\n",
    "print(result)"
   ]
  },
  {
   "cell_type": "code",
   "execution_count": 49,
   "metadata": {},
   "outputs": [
    {
     "data": {
      "image/png": "[encoded data removed]",
      "text/plain": [
       "<Figure size 432x288 with 1 Axes>"
      ]
     },
     "metadata": {
      "needs_background": "light"
     },
     "output_type": "display_data"
    }
   ],
   "source": [
    "# task 1-2\n",
    "# get the key of age_group\n",
    "x_pos = age_group.groups.keys()\n",
    "\n",
    "# x = x_pos, y = total\n",
    "plt.bar(x_pos, result, align='center')\n",
    "\n",
    "# add labels and title\n",
    "plt.ylabel('Amount Spend')\n",
    "plt.title('Amount Spend based on Age')\n",
    "\n",
    "plt.show()"
   ]
  },
  {
   "cell_type": "code",
   "execution_count": null,
   "metadata": {},
   "outputs": [],
   "source": []
  }
 ],
 "metadata": {
  "kernelspec": {
   "display_name": "Python 3",
   "language": "python",
   "name": "python3"
  },
  "language_info": {
   "codemirror_mode": {
    "name": "ipython",
    "version": 3
   },
   "file_extension": ".py",
   "mimetype": "text/x-python",
   "name": "python",
   "nbconvert_exporter": "python",
   "pygments_lexer": "ipython3",
   "version": "3.7.3"
  }
 },
 "nbformat": 4,
 "nbformat_minor": 2
}
