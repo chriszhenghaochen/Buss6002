{
 "cells": [
  {
   "cell_type": "markdown",
   "metadata": {},
   "source": [
    "<center><h1>BUSS6002 - Data Science in Business</h1></center>\n",
    "\n",
    "#### Pre-Tutorial Checklist\n",
    "\n",
    "1. Complete Tasks 1 and 2 from week 7\n",
    "2. Read “Polynomial Regression”\n",
    "\n",
    "\n",
    "# Tutorial 8 - Model Selection\n",
    "\n",
    "## Polynomial Regression (Reminder)\n",
    "\n",
    "In week 6 we saw how to build a linear regression model, which in the case of a multiple linear regression with two features takes the form:\n",
    "\n",
    "$$ y = \\beta_0 + \\beta_1 x_1 + \\beta_2 x_2 $$\n",
    "\n",
    "As the name suggests, these algorithms are very good at modeling linear functions, that is functions where each feature is multiplied by a constant weight $\\beta$. One downside of these models is that any nonlinearities in the relationship between features and target might be missed. Nonlinearities are terms in our model function where feature variables are multiplied together (e.g. $\\beta_{i} x_1 x_2$), or where a feature is raised to a power (e.g. $\\beta_{i} x_1^2$). A polynomial of order 3 is a polynomial where the highest power is 3, e.g:\n",
    "\n",
    "$$y = \\beta_0 + \\beta_1 x_1 + \\beta_{2} x_1^2 + \\beta_{3} x_1^3$$\n",
    "\n",
    "We can easily account for nonlinearities in our model by creating new features which multiply two feature columns together (e.g. $x_3 = x_1x_2$) or raise a feature column to a power (e.g. $x_3 = x_1^2$). This allows us to model any multivariate polynomial function using the Ordinary Least Squares method.\n",
    "\n",
    "### Polynomial Regression Example\n",
    "\n",
    "Let's create a simple dataframe to demonstrate polynomial regression."
   ]
  },
  {
   "cell_type": "code",
   "execution_count": 2,
   "metadata": {},
   "outputs": [
    {
     "data": {
      "text/html": [
       "<div>\n",
       "<style scoped>\n",
       "    .dataframe tbody tr th:only-of-type {\n",
       "        vertical-align: middle;\n",
       "    }\n",
       "\n",
       "    .dataframe tbody tr th {\n",
       "        vertical-align: top;\n",
       "    }\n",
       "\n",
       "    .dataframe thead th {\n",
       "        text-align: right;\n",
       "    }\n",
       "</style>\n",
       "<table border=\"1\" class=\"dataframe\">\n",
       "  <thead>\n",
       "    <tr style=\"text-align: right;\">\n",
       "      <th></th>\n",
       "      <th>Sqft</th>\n",
       "      <th>Price</th>\n",
       "    </tr>\n",
       "  </thead>\n",
       "  <tbody>\n",
       "    <tr>\n",
       "      <td>0</td>\n",
       "      <td>1200</td>\n",
       "      <td>125000</td>\n",
       "    </tr>\n",
       "    <tr>\n",
       "      <td>1</td>\n",
       "      <td>1350</td>\n",
       "      <td>160000</td>\n",
       "    </tr>\n",
       "    <tr>\n",
       "      <td>2</td>\n",
       "      <td>1050</td>\n",
       "      <td>95000</td>\n",
       "    </tr>\n",
       "  </tbody>\n",
       "</table>\n",
       "</div>"
      ],
      "text/plain": [
       "   Sqft   Price\n",
       "0  1200  125000\n",
       "1  1350  160000\n",
       "2  1050   95000"
      ]
     },
     "execution_count": 2,
     "metadata": {},
     "output_type": "execute_result"
    }
   ],
   "source": [
    "import pandas as pd\n",
    "\n",
    "# price = a*Sqft + b\n",
    "df = pd.DataFrame({'Sqft': [1200,1350,1050], 'Price': [125000,160000,95000]})\n",
    "\n",
    "df.head()"
   ]
  },
  {
   "cell_type": "markdown",
   "metadata": {},
   "source": [
    "Now say we want to create a polynomial model of degree 2 for predicting house prices using Sqft. The model looks like:\n",
    "\n",
    "$$y = \\beta_0 + \\beta_1 x_1 + \\beta_{2} x_1^2$$\n",
    "\n",
    "Where x_1 represents the values in the `Sqft` column. Creating the $x_1^2$ column is straightforward:"
   ]
  },
  {
   "cell_type": "code",
   "execution_count": 3,
   "metadata": {},
   "outputs": [
    {
     "data": {
      "text/html": [
       "<div>\n",
       "<style scoped>\n",
       "    .dataframe tbody tr th:only-of-type {\n",
       "        vertical-align: middle;\n",
       "    }\n",
       "\n",
       "    .dataframe tbody tr th {\n",
       "        vertical-align: top;\n",
       "    }\n",
       "\n",
       "    .dataframe thead th {\n",
       "        text-align: right;\n",
       "    }\n",
       "</style>\n",
       "<table border=\"1\" class=\"dataframe\">\n",
       "  <thead>\n",
       "    <tr style=\"text-align: right;\">\n",
       "      <th></th>\n",
       "      <th>Sqft</th>\n",
       "      <th>Price</th>\n",
       "      <th>Sqft^2</th>\n",
       "    </tr>\n",
       "  </thead>\n",
       "  <tbody>\n",
       "    <tr>\n",
       "      <td>0</td>\n",
       "      <td>1200</td>\n",
       "      <td>125000</td>\n",
       "      <td>1440000</td>\n",
       "    </tr>\n",
       "    <tr>\n",
       "      <td>1</td>\n",
       "      <td>1350</td>\n",
       "      <td>160000</td>\n",
       "      <td>1822500</td>\n",
       "    </tr>\n",
       "    <tr>\n",
       "      <td>2</td>\n",
       "      <td>1050</td>\n",
       "      <td>95000</td>\n",
       "      <td>1102500</td>\n",
       "    </tr>\n",
       "  </tbody>\n",
       "</table>\n",
       "</div>"
      ],
      "text/plain": [
       "   Sqft   Price   Sqft^2\n",
       "0  1200  125000  1440000\n",
       "1  1350  160000  1822500\n",
       "2  1050   95000  1102500"
      ]
     },
     "execution_count": 3,
     "metadata": {},
     "output_type": "execute_result"
    }
   ],
   "source": [
    "df['Sqft^2'] = df['Sqft']**2\n",
    "\n",
    "# price = a*sqft + b * sqft^2 + c\n",
    "\n",
    "df.head()"
   ]
  },
  {
   "cell_type": "markdown",
   "metadata": {},
   "source": [
    "Now if we use these features to create a multivariate regression model, as in week 6, our model will include a Sqft$^2$ term and a corresponding weight $\\beta_{11}$."
   ]
  },
  {
   "cell_type": "markdown",
   "metadata": {},
   "source": [
    "## Training and Test Sets\n",
    "\n",
    "To select the \"best\" model for a machine learning task we need to evaluate the performance of each model. The first step in this process is seperating the data into training and test sets. Usually we take 70% of our collected data as the training set and the remaining 30% as our test set.\n",
    "\n",
    "**Training Set**: This set is used to train our models on. In other words we estimate the parameters for the models using this data.\n",
    "\n",
    "**Test Set**: This set is used ONLY to estimate the future predictive performance of the chosen model. The test set should never be used for training in any way whatsoever. It needs to remain completely independant and unseen by the models.\n",
    "\n",
    "The data in the test set must be distributed the same as the training set and also the same as future data. You might get unlucky in splitting your data and select lots of outliers. This can be addressed by collecting more data.\n",
    "\n",
    "<img src=\"img/train_test.png\" width=500>\n",
    "\n",
    "#### Train/Test Splitting in Python\n",
    "\n",
    "scikit learn has a train_test_split function that will split the data into random train and test sets\n",
    "\n",
    "<div style=\"margin-bottom: 0px;\"><img width=20 style=\"display: block; float: left;  margin-right: 20px;\" src=\"img/docs.png\"> <h3 style=\"padding-top: 0px;\">Documentation - train_test_split</h3></div>\n",
    "https://scikit-learn.org/stable/modules/generated/sklearn.model_selection.train_test_split.html"
   ]
  },
  {
   "cell_type": "code",
   "execution_count": 4,
   "metadata": {
    "scrolled": true
   },
   "outputs": [
    {
     "name": "stdout",
     "output_type": "stream",
     "text": [
      "(756, 11)\n",
      "(324, 11)\n"
     ]
    }
   ],
   "source": [
    "import numpy as np\n",
    "import pandas as pd\n",
    "from sklearn.model_selection import train_test_split\n",
    "\n",
    "house_prices = pd.read_excel(\"BatonRouge.xls\")\n",
    "house_prices\n",
    "target_y = house_prices['Price']\n",
    "features_x = house_prices.loc[:, house_prices.columns != 'Price']\n",
    "\n",
    "X_train, X_test, Y_train, Y_test = train_test_split(features_x, target_y, test_size=0.3)\n",
    "\n",
    "print(X_train.shape)\n",
    "print(X_test.shape)"
   ]
  },
  {
   "cell_type": "markdown",
   "metadata": {},
   "source": [
    "## Evaluation Using the Training Set\n",
    "\n",
    "Since the Test set is off limits for the purposes of training and evaluation we must use the remaining data, which is the training set.\n",
    "\n",
    "### Holdout\n",
    "\n",
    "The Holdout method simply reserves a portion of the training data as a Validation Set. The models are trained on the training set and the model performance is compared on the Validation Set.\n",
    "\n",
    "<img src=\"img/holdout.png\" width=500>\n",
    "\n",
    "### Cross Validation\n",
    "\n",
    "The Holdout method is limited by the fact that the validation set is quite small. This means the validation set has a low chance of reflecting the full distribution of future data.\n",
    "\n",
    "To resolve this we can use all the training data as validation data. We successively partition the training set into different training and validation pairs. Performance is evaluated on all pairs and a sumamry statistic of accuracy (mean or median) is calculated.\n",
    "\n",
    "Cross Validation is an excellent estimator of \"out of sample\" performance. There are many types of Cross Validation such as \"leave-p-out\", \"leave-one-out\" and \"k-fold\". We will focus on k-fold cross validation. K refers to the number of splits of data. In the figure below there are 5 folds.\n",
    "\n",
    "<img src=\"img/cross_val.png\" width=800>\n",
    "\n",
    "\n",
    "## Tuning Hyper Parameters\n",
    "\n",
    "Some models/algorithms will have additional parameters called hyper parameters. Hyper parameters are set before the parameter estimation process. Some common examples are regularisation parameters (control the magnitude of parameter values), learning rate or step size (gradient descent) or the number of neurons in a layer of a neural network.\n",
    "\n",
    "The optimal value of these parameters is hard to guess so you should always use cross validation to find the best parameter values. \n",
    "\n",
    "## Process\n",
    "\n",
    "1. For each model, tune hyper parameters using cross validation on training set\n",
    "2. Perform cross validation on training set using each model to see which has the best predictive performance on average\n",
    "3. Estimate selected model performance using test set\n",
    "\n",
    "For step 1 the process is independant for each model. For step 2 we must use the same process i.e. validation or cross validation splits so that we conduct a fair test.\n",
    "\n",
    "Cross Validation mirrors test performance (out of sample generalisation) so we expect that the model that performs best in CV will perform best in the test set. From the test set we get an unbiased estimate of the performance on future data.\n",
    "\n",
    "<img src=\"img/model_selection.png\" width=900>\n",
    "\n",
    "\n",
    "## Why is Validation Required?\n",
    "\n",
    "Why is a Validation set required?\n",
    "\n",
    "1. Selecting a model based on training set performance leads to a model that does not generalise to unseen data. In other words it leads to overfitting.\n",
    "2. Using the test set as a validation set means that we no longer have an independant set to evaluate out of sample performance. The test set becomes tainted.\n",
    "\n",
    "### Example\n",
    "\n",
    "Lets create a synthetic dataset with a training and a single validation set to see which set we should used to select our model.\n",
    "\n",
    "The data comes from the following function\n",
    "\n",
    "$f(x) = \\beta_0 + \\beta_1 x + \\beta_2 x^2 $\n",
    "\n",
    "We will evaluate the following models\n",
    "\n",
    "$f(x) = \\beta_0 + \\beta_1 x $\n",
    "\n",
    "$f(x) = \\beta_0 + \\beta_1 x + \\beta_2 x^2 $\n",
    "\n",
    "$f(x) = \\beta_0 + \\beta_1 x + \\beta_2 x^2 $\n",
    "\n",
    "Up to\n",
    "\n",
    "$f(x) = \\beta_0 + \\beta_1 x + \\beta_2 x^2 + \\dots + \\beta_9 x^9 $\n",
    "\n",
    "Theoretically a high order polynomial can represent any function. **So the highest order should be the best model right? NO!**"
   ]
  },
  {
   "cell_type": "code",
   "execution_count": 5,
   "metadata": {},
   "outputs": [],
   "source": [
    "%matplotlib inline\n",
    "import numpy as np\n",
    "import matplotlib.pyplot as plt\n",
    "\n",
    "# Initialise RNG, so we get same result everytime\n",
    "# in the computer, when we use the random, it is actually the pesudo random\n",
    "# they select different run of random set\n",
    "np.random.seed(0)\n",
    "\n",
    "# Number of training points\n",
    "m = 50 # THE NUMBER of the data samples\n",
    "\n",
    "# range\n",
    "x = np.linspace(-1, 1.0, m)\n",
    "\n",
    "\n",
    "def calc_polynomial(x, beta0 = 4, beta1 = 1.5, beta2 = 3.2, beta3 = 3):\n",
    "    return beta0 + beta1 * x + beta2 * np.power(x,2) + beta3 * np.power(x,3)\n",
    " \n",
    "# f values from 3rd order polynomial\n",
    "f = calc_polynomial(x)"
   ]
  },
  {
   "cell_type": "markdown",
   "metadata": {},
   "source": [
    "$f$ contains data perfectly sampled along the 2nd order polynomial. In the real world we usually observe data that is noisy. So we will add a small amount of Gaussian noise to the data"
   ]
  },
  {
   "cell_type": "code",
   "execution_count": 6,
   "metadata": {},
   "outputs": [],
   "source": [
    "# Generate noisy sample from population\n",
    "sigma2 = 0.3\n",
    "\n",
    "# training data\n",
    "x_train = np.random.uniform(-1, 1, m)\n",
    "y_train = calc_polynomial(x_train) + np.random.normal(0, np.sqrt(sigma2), m)\n",
    "\n",
    "\n",
    "\n",
    "# validation data\n",
    "x_validation = np.random.uniform(-1, 1, m)\n",
    "y_validation = calc_polynomial(x_validation) + np.random.normal(0, np.sqrt(sigma2), m)"
   ]
  },
  {
   "cell_type": "code",
   "execution_count": 7,
   "metadata": {},
   "outputs": [
    {
     "data": {
      "image/png": "[encoded data removed]",
      "text/plain": [
       "<Figure size 432x288 with 1 Axes>"
      ]
     },
     "metadata": {
      "needs_background": "light"
     },
     "output_type": "display_data"
    }
   ],
   "source": [
    "fig1 = plt.figure()\n",
    "\n",
    "plt.plot(x, f, label = \"f (Ground Truth)\")\n",
    "plt.scatter(x_train, y_train, label = \"y (Observed Training Points)\", color = \"red\")\n",
    "plt.scatter(x_validation, y_validation, label = \"y (Observed Validation Points)\", color = \"orange\", alpha = 0.5)\n",
    "\n",
    "plt.xlabel(\"Predictor/Feature Value\")\n",
    "plt.ylabel(\"Target Value\")\n",
    "plt.title(\"Underlying Function vs Observations\")\n",
    "plt.legend(loc=\"upper left\")\n",
    "\n",
    "plt.show()"
   ]
  },
  {
   "cell_type": "markdown",
   "metadata": {},
   "source": [
    "<div style=\"margin-bottom: 0px;\"><img width=20 style=\"display: block; float: left;  margin-right: 20px;\" src=\"img/docs.png\"> <h3 style=\"padding-top: 0px;\">Documentation - PolynomialFeatures</h3></div>\n",
    "https://scikit-learn.org/stable/modules/generated/sklearn.preprocessing.polynomialfeatures.html"
   ]
  },
  {
   "cell_type": "code",
   "execution_count": 8,
   "metadata": {},
   "outputs": [],
   "source": [
    "from sklearn.preprocessing import PolynomialFeatures\n",
    "from sklearn.metrics import mean_squared_error\n",
    "from sklearn.linear_model import LinearRegression\n",
    "\n",
    "# examinate the 20 degress\n",
    "# there are 20 models, they try to see which model best fits the dataset we create  \n",
    "\n",
    "# step 1, 20 linear models\n",
    "# y = ax + b                   degree 1\n",
    "# y = a_2*x^2 + a_1*x + b      degree 2\n",
    "# ....\n",
    "# y = a_20*x^20 + .... b       degree 20\n",
    "\n",
    "max_deg = 20\n",
    "\n",
    "train_error = list()\n",
    "validation_error = list()\n",
    "\n",
    "for i in range(1, max_deg):\n",
    "    poly_transformer = PolynomialFeatures(i) \n",
    "    poly_x_train = poly_transformer.fit_transform(x_train.reshape(-1,1))\n",
    "    poly_x_valid = poly_transformer.fit_transform(x_validation.reshape(-1,1))\n",
    "    \n",
    "    \n",
    "    # Create the linear regression object\n",
    "    \n",
    "    # build your model\n",
    "    lin_reg = LinearRegression()\n",
    "\n",
    "    # train you model\n",
    "    lin_reg.fit(poly_x_train, y_train)\n",
    "    \n",
    "    # predict your model\n",
    "    # Calculate predictions for training set\n",
    "    y_pred_train = lin_reg.predict(poly_x_train)\n",
    "    \n",
    "    # measure the error of the training\n",
    "    mse_train = mean_squared_error(y_train, y_pred_train)\n",
    "    train_error.append(mse_train)\n",
    "    \n",
    "    # Calculate predictions for validation set\n",
    "    y_pred_validation = lin_reg.predict(poly_x_valid)\n",
    "    \n",
    "    # measture the error for validation\n",
    "    mse_valid = mean_squared_error(y_validation, y_pred_validation)\n",
    "    validation_error.append(mse_valid)"
   ]
  },
  {
   "cell_type": "code",
   "execution_count": 9,
   "metadata": {},
   "outputs": [
    {
     "data": {
      "image/png": "[encoded data removed]",
      "text/plain": [
       "<Figure size 720x432 with 1 Axes>"
      ]
     },
     "metadata": {
      "needs_background": "light"
     },
     "output_type": "display_data"
    }
   ],
   "source": [
    "# Plot training and validation error\n",
    "fig4 = plt.figure(figsize = (10, 6))\n",
    "\n",
    "plt.plot(np.arange(1, max_deg, 1), train_error, label = \"Train Error\")\n",
    "plt.plot(np.arange(1, max_deg, 1), validation_error, label = \"Validation Error\")\n",
    "\n",
    "plt.title('Training Error vs Polynomial Degree')\n",
    "plt.xlabel(\"Polynomial Degree\")\n",
    "plt.ylabel(\"Training Error\")\n",
    "\n",
    "plt.xticks(np.arange(1, max_deg))\n",
    "\n",
    "plt.legend()\n",
    "plt.grid()\n",
    "\n",
    "plt.show()"
   ]
  },
  {
   "cell_type": "markdown",
   "metadata": {},
   "source": [
    "<div style=\"margin-bottom: 30px;\"><img width=48 style=\"display: block; float: left;  margin-right: 20px;\" src=\"img/question-mark-button.png\"> <h3 style=\"padding-top: 15px;\">Exercise  1 - Learning Curve</h3></div>\n",
    "\n",
    "1. Which model would we select based on the training error?\n",
    "2. Which model would we select based on validation error?\n",
    "3. Of your chosen models (best training, best validation), which model is expected to generalise better on new data?\n",
    "4. What conclusion can you draw from this?"
   ]
  },
  {
   "cell_type": "markdown",
   "metadata": {
    "collapsed": true
   },
   "source": [
    "## Example: Using CV to Tune Hyperparameters\n",
    "\n",
    "Using the earlier dataset we will build another regression model: KNN Regression.\n",
    "\n",
    "KNN Regression predicts the target value by averaging the $k$ nearest training observations. Therefore $k$ is a hyper parameter that we should optimise.\n",
    "\n",
    "#### Manual Hyperparameter Search"
   ]
  },
  {
   "cell_type": "code",
   "execution_count": 10,
   "metadata": {},
   "outputs": [
    {
     "name": "stdout",
     "output_type": "stream",
     "text": [
      "Best value of k: 10\n"
     ]
    }
   ],
   "source": [
    "# Manual K-Folds\n",
    "from sklearn.neighbors import KNeighborsRegressor\n",
    "from sklearn.model_selection import cross_val_score\n",
    "\n",
    "cv_scores = []\n",
    "\n",
    "# in this case, we examinate the model from 1NN to 30NN\n",
    "# we set the K from 1 to 30\n",
    "k_values = np.arange(1,30)\n",
    "\n",
    "for k in k_values:\n",
    "    # building \n",
    "    knn = KNeighborsRegressor(n_neighbors = k)\n",
    "    \n",
    "    # because KNN is a inference model, so you don't need to train it\n",
    "    \n",
    "    # This returns a \"greater is better\" version of MSE\n",
    "    # http://scikit-learn.org/stable/modules/generated/sklearn.metrics.make_scorer.html\n",
    "    \n",
    "    # prediction\n",
    "    # validate the training performance\n",
    "    # scores = cross_val_score(knn, x.reshape(-1, 1), y_train, cv = 3)\n",
    "    \n",
    "    # validate the testing performance\n",
    "    scores = cross_val_score(knn, x.reshape(-1, 1), y_train, cv = 3)\n",
    "    \n",
    "    # Get the mean of the scores from the 3 folds\n",
    "    cv_score = np.mean(scores)\n",
    "    \n",
    "    cv_scores.append(cv_score)\n",
    "    \n",
    "print(\"Best value of k: {0}\".format(k_values[np.argmax(cv_scores)]))"
   ]
  },
  {
   "cell_type": "code",
   "execution_count": 11,
   "metadata": {},
   "outputs": [
    {
     "data": {
      "image/png": "[encoded data removed]",
      "text/plain": [
       "<Figure size 432x288 with 1 Axes>"
      ]
     },
     "metadata": {
      "needs_background": "light"
     },
     "output_type": "display_data"
    }
   ],
   "source": [
    "fig = plt.figure()\n",
    "\n",
    "plt.plot(np.arange(1,30), cv_scores)\n",
    "\n",
    "plt.xlabel(\"K\")\n",
    "plt.ylabel(\"Error (Higher is better)\")\n",
    "\n",
    "plt.show()"
   ]
  },
  {
   "cell_type": "markdown",
   "metadata": {},
   "source": [
    "#### Grid Search"
   ]
  },
  {
   "cell_type": "code",
   "execution_count": 12,
   "metadata": {},
   "outputs": [
    {
     "name": "stdout",
     "output_type": "stream",
     "text": [
      "Grid Search CV Complete!\n"
     ]
    }
   ],
   "source": [
    "# GridSearchCV\n",
    "from sklearn.model_selection import GridSearchCV\n",
    "\n",
    "# Set up the grid of parameters to search (in this case its 1 dimensional)\n",
    "# set a range of the parameters of KNN (1-11)\n",
    "param_grid = {\n",
    "    'n_neighbors': np.arange(1,11),\n",
    "}\n",
    "\n",
    "# build the model\n",
    "model = KNeighborsRegressor()\n",
    "\n",
    "# Create the grid search object\n",
    "grid_cv_obj = GridSearchCV(model, param_grid, return_train_score=True, cv = 5)\n",
    "\n",
    "# Do the grid search\n",
    "grid_cv_obj.fit(x.reshape(-1, 1), y_train)\n",
    "\n",
    "print(\"Grid Search CV Complete!\")\n",
    "\n",
    "\n",
    "# step 1: set the param_grid as dict to feed the parameters\n",
    "# step 2: build the model you want e.g. KNN, Linear Regression etc.....\n",
    "# step 3: feed the model and setting parameters into the grid search\n",
    "# step4: run grid_cv_obj.fit() to find the best model"
   ]
  },
  {
   "cell_type": "code",
   "execution_count": 13,
   "metadata": {},
   "outputs": [
    {
     "name": "stdout",
     "output_type": "stream",
     "text": [
      "KNeighborsRegressor(algorithm='auto', leaf_size=30, metric='minkowski',\n",
      "                    metric_params=None, n_jobs=None, n_neighbors=10, p=2,\n",
      "                    weights='uniform')\n"
     ]
    }
   ],
   "source": [
    "# Get the best model\n",
    "best_model = grid_cv_obj.best_estimator_\n",
    "\n",
    "# Print the best model\n",
    "print(best_model)"
   ]
  },
  {
   "cell_type": "code",
   "execution_count": 14,
   "metadata": {},
   "outputs": [
    {
     "name": "stdout",
     "output_type": "stream",
     "text": [
      "{'n_neighbors': 10}\n"
     ]
    }
   ],
   "source": [
    "# Print the best params\n",
    "print(grid_cv_obj.best_params_)"
   ]
  },
  {
   "cell_type": "code",
   "execution_count": 15,
   "metadata": {},
   "outputs": [
    {
     "data": {
      "text/html": [
       "<div>\n",
       "<style scoped>\n",
       "    .dataframe tbody tr th:only-of-type {\n",
       "        vertical-align: middle;\n",
       "    }\n",
       "\n",
       "    .dataframe tbody tr th {\n",
       "        vertical-align: top;\n",
       "    }\n",
       "\n",
       "    .dataframe thead th {\n",
       "        text-align: right;\n",
       "    }\n",
       "</style>\n",
       "<table border=\"1\" class=\"dataframe\">\n",
       "  <thead>\n",
       "    <tr style=\"text-align: right;\">\n",
       "      <th></th>\n",
       "      <th>mean_fit_time</th>\n",
       "      <th>std_fit_time</th>\n",
       "      <th>mean_score_time</th>\n",
       "      <th>std_score_time</th>\n",
       "      <th>param_n_neighbors</th>\n",
       "      <th>params</th>\n",
       "      <th>split0_test_score</th>\n",
       "      <th>split1_test_score</th>\n",
       "      <th>split2_test_score</th>\n",
       "      <th>split3_test_score</th>\n",
       "      <th>...</th>\n",
       "      <th>mean_test_score</th>\n",
       "      <th>std_test_score</th>\n",
       "      <th>rank_test_score</th>\n",
       "      <th>split0_train_score</th>\n",
       "      <th>split1_train_score</th>\n",
       "      <th>split2_train_score</th>\n",
       "      <th>split3_train_score</th>\n",
       "      <th>split4_train_score</th>\n",
       "      <th>mean_train_score</th>\n",
       "      <th>std_train_score</th>\n",
       "    </tr>\n",
       "  </thead>\n",
       "  <tbody>\n",
       "    <tr>\n",
       "      <td>0</td>\n",
       "      <td>0.000283</td>\n",
       "      <td>0.000039</td>\n",
       "      <td>0.000777</td>\n",
       "      <td>0.000124</td>\n",
       "      <td>1</td>\n",
       "      <td>{'n_neighbors': 1}</td>\n",
       "      <td>-0.230671</td>\n",
       "      <td>-2.834342</td>\n",
       "      <td>-0.379097</td>\n",
       "      <td>-0.232943</td>\n",
       "      <td>...</td>\n",
       "      <td>-1.111159</td>\n",
       "      <td>1.062166</td>\n",
       "      <td>8</td>\n",
       "      <td>1.000000</td>\n",
       "      <td>1.000000</td>\n",
       "      <td>1.000000</td>\n",
       "      <td>1.000000</td>\n",
       "      <td>1.000000</td>\n",
       "      <td>1.000000</td>\n",
       "      <td>0.000000</td>\n",
       "    </tr>\n",
       "    <tr>\n",
       "      <td>1</td>\n",
       "      <td>0.000232</td>\n",
       "      <td>0.000003</td>\n",
       "      <td>0.000629</td>\n",
       "      <td>0.000004</td>\n",
       "      <td>2</td>\n",
       "      <td>{'n_neighbors': 2}</td>\n",
       "      <td>-0.017961</td>\n",
       "      <td>-0.917420</td>\n",
       "      <td>0.005929</td>\n",
       "      <td>-0.504884</td>\n",
       "      <td>...</td>\n",
       "      <td>-2.441795</td>\n",
       "      <td>4.180383</td>\n",
       "      <td>10</td>\n",
       "      <td>0.600493</td>\n",
       "      <td>0.518082</td>\n",
       "      <td>0.544797</td>\n",
       "      <td>0.535149</td>\n",
       "      <td>0.545260</td>\n",
       "      <td>0.548756</td>\n",
       "      <td>0.027679</td>\n",
       "    </tr>\n",
       "    <tr>\n",
       "      <td>2</td>\n",
       "      <td>0.000228</td>\n",
       "      <td>0.000013</td>\n",
       "      <td>0.000610</td>\n",
       "      <td>0.000033</td>\n",
       "      <td>3</td>\n",
       "      <td>{'n_neighbors': 3}</td>\n",
       "      <td>-0.049449</td>\n",
       "      <td>-0.764660</td>\n",
       "      <td>-0.022307</td>\n",
       "      <td>-0.416338</td>\n",
       "      <td>...</td>\n",
       "      <td>-1.306026</td>\n",
       "      <td>2.004154</td>\n",
       "      <td>9</td>\n",
       "      <td>0.366975</td>\n",
       "      <td>0.318705</td>\n",
       "      <td>0.400035</td>\n",
       "      <td>0.322192</td>\n",
       "      <td>0.363378</td>\n",
       "      <td>0.354257</td>\n",
       "      <td>0.030439</td>\n",
       "    </tr>\n",
       "    <tr>\n",
       "      <td>3</td>\n",
       "      <td>0.000200</td>\n",
       "      <td>0.000006</td>\n",
       "      <td>0.000552</td>\n",
       "      <td>0.000021</td>\n",
       "      <td>4</td>\n",
       "      <td>{'n_neighbors': 4}</td>\n",
       "      <td>-0.103905</td>\n",
       "      <td>-0.615556</td>\n",
       "      <td>-0.101142</td>\n",
       "      <td>-0.165717</td>\n",
       "      <td>...</td>\n",
       "      <td>-0.805632</td>\n",
       "      <td>1.134457</td>\n",
       "      <td>7</td>\n",
       "      <td>0.307804</td>\n",
       "      <td>0.242871</td>\n",
       "      <td>0.205256</td>\n",
       "      <td>0.245060</td>\n",
       "      <td>0.252909</td>\n",
       "      <td>0.250780</td>\n",
       "      <td>0.032936</td>\n",
       "    </tr>\n",
       "    <tr>\n",
       "      <td>4</td>\n",
       "      <td>0.000198</td>\n",
       "      <td>0.000004</td>\n",
       "      <td>0.000535</td>\n",
       "      <td>0.000004</td>\n",
       "      <td>5</td>\n",
       "      <td>{'n_neighbors': 5}</td>\n",
       "      <td>-0.007620</td>\n",
       "      <td>-0.351575</td>\n",
       "      <td>-0.228716</td>\n",
       "      <td>-0.167388</td>\n",
       "      <td>...</td>\n",
       "      <td>-0.537393</td>\n",
       "      <td>0.705885</td>\n",
       "      <td>6</td>\n",
       "      <td>0.250551</td>\n",
       "      <td>0.213171</td>\n",
       "      <td>0.194407</td>\n",
       "      <td>0.239602</td>\n",
       "      <td>0.233176</td>\n",
       "      <td>0.226182</td>\n",
       "      <td>0.020009</td>\n",
       "    </tr>\n",
       "  </tbody>\n",
       "</table>\n",
       "<p>5 rows × 21 columns</p>\n",
       "</div>"
      ],
      "text/plain": [
       "   mean_fit_time  std_fit_time  mean_score_time  std_score_time  \\\n",
       "0       0.000283      0.000039         0.000777        0.000124   \n",
       "1       0.000232      0.000003         0.000629        0.000004   \n",
       "2       0.000228      0.000013         0.000610        0.000033   \n",
       "3       0.000200      0.000006         0.000552        0.000021   \n",
       "4       0.000198      0.000004         0.000535        0.000004   \n",
       "\n",
       "  param_n_neighbors              params  split0_test_score  split1_test_score  \\\n",
       "0                 1  {'n_neighbors': 1}          -0.230671          -2.834342   \n",
       "1                 2  {'n_neighbors': 2}          -0.017961          -0.917420   \n",
       "2                 3  {'n_neighbors': 3}          -0.049449          -0.764660   \n",
       "3                 4  {'n_neighbors': 4}          -0.103905          -0.615556   \n",
       "4                 5  {'n_neighbors': 5}          -0.007620          -0.351575   \n",
       "\n",
       "   split2_test_score  split3_test_score  ...  mean_test_score  std_test_score  \\\n",
       "0          -0.379097          -0.232943  ...        -1.111159        1.062166   \n",
       "1           0.005929          -0.504884  ...        -2.441795        4.180383   \n",
       "2          -0.022307          -0.416338  ...        -1.306026        2.004154   \n",
       "3          -0.101142          -0.165717  ...        -0.805632        1.134457   \n",
       "4          -0.228716          -0.167388  ...        -0.537393        0.705885   \n",
       "\n",
       "   rank_test_score  split0_train_score  split1_train_score  \\\n",
       "0                8            1.000000            1.000000   \n",
       "1               10            0.600493            0.518082   \n",
       "2                9            0.366975            0.318705   \n",
       "3                7            0.307804            0.242871   \n",
       "4                6            0.250551            0.213171   \n",
       "\n",
       "   split2_train_score  split3_train_score  split4_train_score  \\\n",
       "0            1.000000            1.000000            1.000000   \n",
       "1            0.544797            0.535149            0.545260   \n",
       "2            0.400035            0.322192            0.363378   \n",
       "3            0.205256            0.245060            0.252909   \n",
       "4            0.194407            0.239602            0.233176   \n",
       "\n",
       "   mean_train_score  std_train_score  \n",
       "0          1.000000         0.000000  \n",
       "1          0.548756         0.027679  \n",
       "2          0.354257         0.030439  \n",
       "3          0.250780         0.032936  \n",
       "4          0.226182         0.020009  \n",
       "\n",
       "[5 rows x 21 columns]"
      ]
     },
     "execution_count": 15,
     "metadata": {},
     "output_type": "execute_result"
    }
   ],
   "source": [
    "import pandas as pd\n",
    "\n",
    "results = pd.DataFrame(grid_cv_obj.cv_results_)\n",
    "\n",
    "results.head()"
   ]
  },
  {
   "cell_type": "markdown",
   "metadata": {},
   "source": [
    "#### Understanding Grid Search\n",
    "\n",
    "In this example we only had one parameter so the grid is just a 1 dimensonal list. GridSearchCV performs cross validation for each value of n_neighbours and returns the best value of n_neighbours.\n",
    "\n",
    "We can use the ParameterGrid object in sklearn to list out all combinations of values that will be checked. In this case there are only 10."
   ]
  },
  {
   "cell_type": "code",
   "execution_count": 16,
   "metadata": {},
   "outputs": [
    {
     "data": {
      "text/html": [
       "<div>\n",
       "<style scoped>\n",
       "    .dataframe tbody tr th:only-of-type {\n",
       "        vertical-align: middle;\n",
       "    }\n",
       "\n",
       "    .dataframe tbody tr th {\n",
       "        vertical-align: top;\n",
       "    }\n",
       "\n",
       "    .dataframe thead th {\n",
       "        text-align: right;\n",
       "    }\n",
       "</style>\n",
       "<table border=\"1\" class=\"dataframe\">\n",
       "  <thead>\n",
       "    <tr style=\"text-align: right;\">\n",
       "      <th></th>\n",
       "      <th>n_neighbors</th>\n",
       "    </tr>\n",
       "  </thead>\n",
       "  <tbody>\n",
       "    <tr>\n",
       "      <td>0</td>\n",
       "      <td>1</td>\n",
       "    </tr>\n",
       "    <tr>\n",
       "      <td>1</td>\n",
       "      <td>2</td>\n",
       "    </tr>\n",
       "    <tr>\n",
       "      <td>2</td>\n",
       "      <td>3</td>\n",
       "    </tr>\n",
       "    <tr>\n",
       "      <td>3</td>\n",
       "      <td>4</td>\n",
       "    </tr>\n",
       "    <tr>\n",
       "      <td>4</td>\n",
       "      <td>5</td>\n",
       "    </tr>\n",
       "    <tr>\n",
       "      <td>5</td>\n",
       "      <td>6</td>\n",
       "    </tr>\n",
       "    <tr>\n",
       "      <td>6</td>\n",
       "      <td>7</td>\n",
       "    </tr>\n",
       "    <tr>\n",
       "      <td>7</td>\n",
       "      <td>8</td>\n",
       "    </tr>\n",
       "    <tr>\n",
       "      <td>8</td>\n",
       "      <td>9</td>\n",
       "    </tr>\n",
       "    <tr>\n",
       "      <td>9</td>\n",
       "      <td>10</td>\n",
       "    </tr>\n",
       "  </tbody>\n",
       "</table>\n",
       "</div>"
      ],
      "text/plain": [
       "   n_neighbors\n",
       "0            1\n",
       "1            2\n",
       "2            3\n",
       "3            4\n",
       "4            5\n",
       "5            6\n",
       "6            7\n",
       "7            8\n",
       "8            9\n",
       "9           10"
      ]
     },
     "execution_count": 16,
     "metadata": {},
     "output_type": "execute_result"
    }
   ],
   "source": [
    "from sklearn.model_selection import ParameterGrid\n",
    "\n",
    "grid_df = pd.DataFrame(list(ParameterGrid(param_grid)))\n",
    "                       \n",
    "grid_df"
   ]
  },
  {
   "cell_type": "markdown",
   "metadata": {},
   "source": [
    "If we add another parameter then the number of parameter combinations that we have to search increases dramatically. We perform cross validation for each row in the parameter grid. Here I have shown the first 13 rows from 1000 ($10 \\times 10 \\times 10$) total rows."
   ]
  },
  {
   "cell_type": "code",
   "execution_count": 17,
   "metadata": {},
   "outputs": [
    {
     "data": {
      "text/html": [
       "<div>\n",
       "<style scoped>\n",
       "    .dataframe tbody tr th:only-of-type {\n",
       "        vertical-align: middle;\n",
       "    }\n",
       "\n",
       "    .dataframe tbody tr th {\n",
       "        vertical-align: top;\n",
       "    }\n",
       "\n",
       "    .dataframe thead th {\n",
       "        text-align: right;\n",
       "    }\n",
       "</style>\n",
       "<table border=\"1\" class=\"dataframe\">\n",
       "  <thead>\n",
       "    <tr style=\"text-align: right;\">\n",
       "      <th></th>\n",
       "      <th>param_a</th>\n",
       "      <th>param_b</th>\n",
       "      <th>param_c</th>\n",
       "    </tr>\n",
       "  </thead>\n",
       "  <tbody>\n",
       "    <tr>\n",
       "      <td>0</td>\n",
       "      <td>0</td>\n",
       "      <td>100</td>\n",
       "      <td>-5</td>\n",
       "    </tr>\n",
       "    <tr>\n",
       "      <td>1</td>\n",
       "      <td>0</td>\n",
       "      <td>100</td>\n",
       "      <td>-4</td>\n",
       "    </tr>\n",
       "    <tr>\n",
       "      <td>2</td>\n",
       "      <td>0</td>\n",
       "      <td>100</td>\n",
       "      <td>-3</td>\n",
       "    </tr>\n",
       "    <tr>\n",
       "      <td>3</td>\n",
       "      <td>0</td>\n",
       "      <td>100</td>\n",
       "      <td>-2</td>\n",
       "    </tr>\n",
       "    <tr>\n",
       "      <td>4</td>\n",
       "      <td>0</td>\n",
       "      <td>100</td>\n",
       "      <td>-1</td>\n",
       "    </tr>\n",
       "    <tr>\n",
       "      <td>...</td>\n",
       "      <td>...</td>\n",
       "      <td>...</td>\n",
       "      <td>...</td>\n",
       "    </tr>\n",
       "    <tr>\n",
       "      <td>995</td>\n",
       "      <td>9</td>\n",
       "      <td>109</td>\n",
       "      <td>0</td>\n",
       "    </tr>\n",
       "    <tr>\n",
       "      <td>996</td>\n",
       "      <td>9</td>\n",
       "      <td>109</td>\n",
       "      <td>1</td>\n",
       "    </tr>\n",
       "    <tr>\n",
       "      <td>997</td>\n",
       "      <td>9</td>\n",
       "      <td>109</td>\n",
       "      <td>2</td>\n",
       "    </tr>\n",
       "    <tr>\n",
       "      <td>998</td>\n",
       "      <td>9</td>\n",
       "      <td>109</td>\n",
       "      <td>3</td>\n",
       "    </tr>\n",
       "    <tr>\n",
       "      <td>999</td>\n",
       "      <td>9</td>\n",
       "      <td>109</td>\n",
       "      <td>4</td>\n",
       "    </tr>\n",
       "  </tbody>\n",
       "</table>\n",
       "<p>1000 rows × 3 columns</p>\n",
       "</div>"
      ],
      "text/plain": [
       "     param_a  param_b  param_c\n",
       "0          0      100       -5\n",
       "1          0      100       -4\n",
       "2          0      100       -3\n",
       "3          0      100       -2\n",
       "4          0      100       -1\n",
       "..       ...      ...      ...\n",
       "995        9      109        0\n",
       "996        9      109        1\n",
       "997        9      109        2\n",
       "998        9      109        3\n",
       "999        9      109        4\n",
       "\n",
       "[1000 rows x 3 columns]"
      ]
     },
     "execution_count": 17,
     "metadata": {},
     "output_type": "execute_result"
    }
   ],
   "source": [
    "from sklearn.model_selection import ParameterGrid\n",
    "\n",
    "# a, b, c\n",
    "# a from 1 to 10, b from 100 to 110, c from -5 to 5\n",
    "# how many combination of parameters I need to examinate here ? 10 for a, 10 for b and 10 for c 10*10*10 = 1000 :)\n",
    "\n",
    "param_grid = {\n",
    "    'param_a': np.arange(0,10),\n",
    "    'param_b': np.arange(100,110),\n",
    "    'param_c': np.arange(-5,5),\n",
    "}\n",
    "\n",
    "grid_df = pd.DataFrame(list(ParameterGrid(param_grid)))\n",
    "                       \n",
    "grid_df"
   ]
  },
  {
   "cell_type": "code",
   "execution_count": 18,
   "metadata": {},
   "outputs": [],
   "source": [
    "# summary:\n",
    "# why: we need to find the best combinaton of parameters for our model\n",
    "# how: 4 steps:\n",
    "# 1. set paramaters \n",
    "# 2. build the model \n",
    "# 3. feed the model and parameters into grid search\n",
    "# 4. the use .fit to compute the best model"
   ]
  },
  {
   "cell_type": "markdown",
   "metadata": {},
   "source": [
    "## Example: Using CV to Compare Model Performance\n",
    "\n",
    "Lets compare the performance of our best polynomial model with that of the knn regressor.\n",
    "\n",
    "To ensure that each model sees the exact same K-Folds we need to store the K-Fold split in to a Python object and then share it to the cross_val_score function"
   ]
  },
  {
   "cell_type": "code",
   "execution_count": 19,
   "metadata": {},
   "outputs": [
    {
     "data": {
      "text/plain": [
       "KNeighborsRegressor(algorithm='auto', leaf_size=30, metric='minkowski',\n",
       "                    metric_params=None, n_jobs=None, n_neighbors=4, p=2,\n",
       "                    weights='uniform')"
      ]
     },
     "execution_count": 19,
     "metadata": {},
     "output_type": "execute_result"
    }
   ],
   "source": [
    "# Build poly2 model\n",
    "poly_transformer = PolynomialFeatures(2) \n",
    "poly_x = poly_transformer.fit_transform(np.reshape(x, (50,1)))\n",
    "poly_reg = LinearRegression()\n",
    "poly_reg.fit(poly_x, y_train)\n",
    "    \n",
    "# Build knn model\n",
    "knn = KNeighborsRegressor(n_neighbors= 4)\n",
    "knn.fit(x.reshape(-1,1), y_train)"
   ]
  },
  {
   "cell_type": "code",
   "execution_count": 20,
   "metadata": {},
   "outputs": [
    {
     "name": "stdout",
     "output_type": "stream",
     "text": [
      "-2.6148650408944456\n",
      "-0.5934171778530033\n"
     ]
    }
   ],
   "source": [
    "from sklearn.model_selection import KFold\n",
    "\n",
    "# 3-Fold Cross Validation\n",
    "kf = KFold(3)\n",
    "\n",
    "poly_scores = cross_val_score(poly_reg, poly_x, y_train, cv = kf)\n",
    "poly_mean = np.mean(poly_scores)\n",
    "\n",
    "knn_scores = cross_val_score(knn, x.reshape(-1,1), y_train, cv = kf)\n",
    "knn_mean = np.mean(knn_scores)\n",
    "\n",
    "print(poly_mean)\n",
    "print(knn_mean)"
   ]
  },
  {
   "cell_type": "code",
   "execution_count": 21,
   "metadata": {},
   "outputs": [
    {
     "data": {
      "text/html": [
       "<div>\n",
       "<style scoped>\n",
       "    .dataframe tbody tr th:only-of-type {\n",
       "        vertical-align: middle;\n",
       "    }\n",
       "\n",
       "    .dataframe tbody tr th {\n",
       "        vertical-align: top;\n",
       "    }\n",
       "\n",
       "    .dataframe thead th {\n",
       "        text-align: right;\n",
       "    }\n",
       "</style>\n",
       "<table border=\"1\" class=\"dataframe\">\n",
       "  <thead>\n",
       "    <tr style=\"text-align: right;\">\n",
       "      <th></th>\n",
       "      <th>CV MSE</th>\n",
       "    </tr>\n",
       "    <tr>\n",
       "      <th>Model</th>\n",
       "      <th></th>\n",
       "    </tr>\n",
       "  </thead>\n",
       "  <tbody>\n",
       "    <tr>\n",
       "      <td>Polynomial Regression</td>\n",
       "      <td>-2.614865</td>\n",
       "    </tr>\n",
       "    <tr>\n",
       "      <td>KNN Regressor</td>\n",
       "      <td>-0.593417</td>\n",
       "    </tr>\n",
       "  </tbody>\n",
       "</table>\n",
       "</div>"
      ],
      "text/plain": [
       "                         CV MSE\n",
       "Model                          \n",
       "Polynomial Regression -2.614865\n",
       "KNN Regressor         -0.593417"
      ]
     },
     "execution_count": 21,
     "metadata": {},
     "output_type": "execute_result"
    }
   ],
   "source": [
    "# Make the results pretty\n",
    "\n",
    "data = [\n",
    "    {\"Model\": \"Polynomial Regression\", \"CV MSE\": poly_mean},\n",
    "    {\"Model\": \"KNN Regressor\", \"CV MSE\": knn_mean}\n",
    "]\n",
    "\n",
    "results = pd.DataFrame(data)\n",
    "results = results.set_index(\"Model\")\n",
    "results"
   ]
  },
  {
   "cell_type": "markdown",
   "metadata": {},
   "source": [
    "## Optional: Manual K-Fold Cross Validation\n",
    "\n",
    "The following code demonstrates what is happening when we use the cross_val_score function"
   ]
  },
  {
   "cell_type": "code",
   "execution_count": 23,
   "metadata": {},
   "outputs": [
    {
     "name": "stdout",
     "output_type": "stream",
     "text": [
      "Best value of k: 10\n"
     ]
    }
   ],
   "source": [
    "# Manual K-Folds\n",
    "from sklearn.neighbors import KNeighborsRegressor\n",
    "from sklearn.model_selection import cross_val_score\n",
    "\n",
    "cv_scores = []\n",
    "\n",
    "k_values = np.arange(1,11)\n",
    "\n",
    "for k in k_values:\n",
    "    knn = KNeighborsRegressor(n_neighbors = k)\n",
    "    \n",
    "    kf = KFold(3)\n",
    "    \n",
    "    scores = []\n",
    "    \n",
    "    for train_indices, valid_indices in kf.split(x):\n",
    "        x_cvtrain = x[train_indices]\n",
    "        x_cvvalid = x[valid_indices]\n",
    "        \n",
    "        y_cvtrain = y_train[train_indices]\n",
    "        y_cvvalid = y_train[valid_indices]\n",
    "        \n",
    "        knn.fit(x_cvtrain.reshape(-1,1), y_cvtrain)\n",
    "        \n",
    "        y_cvpred = knn.predict(x_cvvalid.reshape(-1,1))\n",
    "        \n",
    "        error = -(mean_squared_error(y_cvvalid, y_cvpred))\n",
    "        \n",
    "        scores.append(error)\n",
    "        \n",
    "    # Get the mean of the scores from the 3 folds\n",
    "    cv_score = np.mean(scores)\n",
    "    \n",
    "    cv_scores.append(cv_score)\n",
    "    \n",
    "print(\"Best value of k: {0}\".format(k_values[np.argmax(cv_scores)]))"
   ]
  },
  {
   "cell_type": "markdown",
   "metadata": {},
   "source": [
    "# Task Solution\n"
   ]
  },
  {
   "cell_type": "code",
   "execution_count": 3,
   "metadata": {},
   "outputs": [
    {
     "data": {
      "text/html": [
       "<div>\n",
       "<style scoped>\n",
       "    .dataframe tbody tr th:only-of-type {\n",
       "        vertical-align: middle;\n",
       "    }\n",
       "\n",
       "    .dataframe tbody tr th {\n",
       "        vertical-align: top;\n",
       "    }\n",
       "\n",
       "    .dataframe thead th {\n",
       "        text-align: right;\n",
       "    }\n",
       "</style>\n",
       "<table border=\"1\" class=\"dataframe\">\n",
       "  <thead>\n",
       "    <tr style=\"text-align: right;\">\n",
       "      <th></th>\n",
       "      <th>default</th>\n",
       "      <th>student</th>\n",
       "      <th>balance</th>\n",
       "      <th>income</th>\n",
       "    </tr>\n",
       "  </thead>\n",
       "  <tbody>\n",
       "    <tr>\n",
       "      <td>0</td>\n",
       "      <td>0</td>\n",
       "      <td>No</td>\n",
       "      <td>729.526495</td>\n",
       "      <td>44361.62507</td>\n",
       "    </tr>\n",
       "    <tr>\n",
       "      <td>1</td>\n",
       "      <td>0</td>\n",
       "      <td>Yes</td>\n",
       "      <td>817.180407</td>\n",
       "      <td>12106.13470</td>\n",
       "    </tr>\n",
       "    <tr>\n",
       "      <td>2</td>\n",
       "      <td>0</td>\n",
       "      <td>No</td>\n",
       "      <td>1073.549164</td>\n",
       "      <td>31767.13895</td>\n",
       "    </tr>\n",
       "    <tr>\n",
       "      <td>3</td>\n",
       "      <td>0</td>\n",
       "      <td>No</td>\n",
       "      <td>529.250605</td>\n",
       "      <td>35704.49394</td>\n",
       "    </tr>\n",
       "    <tr>\n",
       "      <td>4</td>\n",
       "      <td>0</td>\n",
       "      <td>No</td>\n",
       "      <td>785.655883</td>\n",
       "      <td>38463.49588</td>\n",
       "    </tr>\n",
       "  </tbody>\n",
       "</table>\n",
       "</div>"
      ],
      "text/plain": [
       "   default student      balance       income\n",
       "0        0      No   729.526495  44361.62507\n",
       "1        0     Yes   817.180407  12106.13470\n",
       "2        0      No  1073.549164  31767.13895\n",
       "3        0      No   529.250605  35704.49394\n",
       "4        0      No   785.655883  38463.49588"
      ]
     },
     "execution_count": 3,
     "metadata": {},
     "output_type": "execute_result"
    }
   ],
   "source": [
    "import pandas as pd\n",
    "\n",
    "# Load the dataset\n",
    "default = pd.read_csv('default.csv')\n",
    "\n",
    "# Inspect the dataset\n",
    "default.head()"
   ]
  },
  {
   "cell_type": "code",
   "execution_count": 4,
   "metadata": {},
   "outputs": [
    {
     "data": {
      "text/html": [
       "<div>\n",
       "<style scoped>\n",
       "    .dataframe tbody tr th:only-of-type {\n",
       "        vertical-align: middle;\n",
       "    }\n",
       "\n",
       "    .dataframe tbody tr th {\n",
       "        vertical-align: top;\n",
       "    }\n",
       "\n",
       "    .dataframe thead th {\n",
       "        text-align: right;\n",
       "    }\n",
       "</style>\n",
       "<table border=\"1\" class=\"dataframe\">\n",
       "  <thead>\n",
       "    <tr style=\"text-align: right;\">\n",
       "      <th></th>\n",
       "      <th>default</th>\n",
       "      <th>balance</th>\n",
       "      <th>income</th>\n",
       "      <th>student_Yes</th>\n",
       "    </tr>\n",
       "  </thead>\n",
       "  <tbody>\n",
       "    <tr>\n",
       "      <td>0</td>\n",
       "      <td>0</td>\n",
       "      <td>729.526495</td>\n",
       "      <td>44361.62507</td>\n",
       "      <td>0</td>\n",
       "    </tr>\n",
       "    <tr>\n",
       "      <td>1</td>\n",
       "      <td>0</td>\n",
       "      <td>817.180407</td>\n",
       "      <td>12106.13470</td>\n",
       "      <td>1</td>\n",
       "    </tr>\n",
       "    <tr>\n",
       "      <td>2</td>\n",
       "      <td>0</td>\n",
       "      <td>1073.549164</td>\n",
       "      <td>31767.13895</td>\n",
       "      <td>0</td>\n",
       "    </tr>\n",
       "    <tr>\n",
       "      <td>3</td>\n",
       "      <td>0</td>\n",
       "      <td>529.250605</td>\n",
       "      <td>35704.49394</td>\n",
       "      <td>0</td>\n",
       "    </tr>\n",
       "    <tr>\n",
       "      <td>4</td>\n",
       "      <td>0</td>\n",
       "      <td>785.655883</td>\n",
       "      <td>38463.49588</td>\n",
       "      <td>0</td>\n",
       "    </tr>\n",
       "  </tbody>\n",
       "</table>\n",
       "</div>"
      ],
      "text/plain": [
       "   default      balance       income  student_Yes\n",
       "0        0   729.526495  44361.62507            0\n",
       "1        0   817.180407  12106.13470            1\n",
       "2        0  1073.549164  31767.13895            0\n",
       "3        0   529.250605  35704.49394            0\n",
       "4        0   785.655883  38463.49588            0"
      ]
     },
     "execution_count": 4,
     "metadata": {},
     "output_type": "execute_result"
    }
   ],
   "source": [
    "# Convert the student attribute into dummy variables 0s and 1s\n",
    "default = pd.get_dummies(default, drop_first=True)\n",
    "\n",
    "default.head()"
   ]
  },
  {
   "cell_type": "code",
   "execution_count": 5,
   "metadata": {},
   "outputs": [],
   "source": [
    "# split\n",
    "\n",
    "import numpy as np\n",
    "from sklearn.model_selection import train_test_split\n",
    "\n",
    "# Set the RNG seed so that we get reproducible results\n",
    "# Splitting is random process\n",
    "# Seed value doesn't really matter\n",
    "np.random.seed(0)\n",
    "\n",
    "# Grab our input and output data\n",
    "# other columns as training data\n",
    "x_data = default[default.columns.difference(['default'])]\n",
    "# label\n",
    "y_data = default['default']\n",
    "\n",
    "# We can now split this into training and testing sets\n",
    "x_train, x_test, y_train, y_test = train_test_split(x_data, y_data, test_size=0.3)"
   ]
  },
  {
   "cell_type": "code",
   "execution_count": 6,
   "metadata": {},
   "outputs": [
    {
     "name": "stdout",
     "output_type": "stream",
     "text": [
      "(7000, 3)\n",
      "(3000, 3)\n"
     ]
    }
   ],
   "source": [
    "print(x_train.shape)\n",
    "print(x_test.shape)"
   ]
  },
  {
   "cell_type": "code",
   "execution_count": 7,
   "metadata": {},
   "outputs": [
    {
     "data": {
      "text/plain": [
       "LogisticRegression(C=1.0, class_weight=None, dual=False, fit_intercept=True,\n",
       "                   intercept_scaling=1, l1_ratio=None, max_iter=100,\n",
       "                   multi_class='warn', n_jobs=None, penalty='l2',\n",
       "                   random_state=None, solver='liblinear', tol=0.0001, verbose=0,\n",
       "                   warm_start=False)"
      ]
     },
     "execution_count": 7,
     "metadata": {},
     "output_type": "execute_result"
    }
   ],
   "source": [
    "# SIMPLE LINEAR REGRESSION\n",
    "from sklearn.linear_model import LogisticRegression\n",
    "\n",
    "# Initialize the model without changing any of the default parameters\n",
    "model_1 = LogisticRegression(solver = 'liblinear')\n",
    "\n",
    "# Fit the model on our training data\n",
    "model_1.fit(x_train, y_train)"
   ]
  },
  {
   "cell_type": "code",
   "execution_count": 8,
   "metadata": {},
   "outputs": [
    {
     "name": "stdout",
     "output_type": "stream",
     "text": [
      "Doing grid search now... please wait...\n",
      "Finished grid search!\n"
     ]
    }
   ],
   "source": [
    "# a solution with grid search\n",
    "from sklearn.model_selection import GridSearchCV\n",
    "import numpy as np\n",
    "\n",
    "# Setup the parameter grid\n",
    "param_grid = {\n",
    "    'C': np.linspace(1e-5, 1e10, 20),\n",
    "    'penalty': ['l1', 'l2'],\n",
    "    'fit_intercept': [True, False],\n",
    "    'class_weight': ['balanced', {0: 1, 1: 1}]  # {0: 1, 1: 1} means we will give class 0 a vote of 1, and class 1 also a vote of 1\n",
    "}\n",
    "\n",
    "# Initialize our grid search algorithm with a new logistic regression\n",
    "grid_search = GridSearchCV(LogisticRegression(solver = 'liblinear'), param_grid, cv = 5)\n",
    "\n",
    "# Give our training set to the grid search algorithm to find the best model\n",
    "print('Doing grid search now... please wait...')\n",
    "grid_search.fit(x_train, y_train)\n",
    "print('Finished grid search!')"
   ]
  },
  {
   "cell_type": "code",
   "execution_count": 9,
   "metadata": {},
   "outputs": [
    {
     "data": {
      "text/plain": [
       "{'C': 7368421052.631581,\n",
       " 'class_weight': {0: 1, 1: 1},\n",
       " 'fit_intercept': True,\n",
       " 'penalty': 'l1'}"
      ]
     },
     "execution_count": 9,
     "metadata": {},
     "output_type": "execute_result"
    }
   ],
   "source": [
    "# These are the best parameters that the grid search found\n",
    "grid_search.best_params_"
   ]
  },
  {
   "cell_type": "code",
   "execution_count": 10,
   "metadata": {},
   "outputs": [],
   "source": [
    "# This is the best logistic regression model\n",
    "# Note that by default refit=True so it is already retrained on the entire training set.\n",
    "model_2 = grid_search.best_estimator_"
   ]
  },
  {
   "cell_type": "code",
   "execution_count": 11,
   "metadata": {},
   "outputs": [
    {
     "name": "stdout",
     "output_type": "stream",
     "text": [
      "[0.96214286 0.96214286 0.97357143 0.97       0.97285714]\n",
      "0.9681428571428572\n"
     ]
    }
   ],
   "source": [
    "from sklearn.model_selection import KFold, cross_val_score\n",
    "\n",
    "# Most people using k=5 or k=10 folds for CV\n",
    "kf = KFold(5)\n",
    "\n",
    "# Cross val score calls each models \"score\" function\n",
    "# In the case of logistic regression it is the \"accuracy\" score\n",
    "model_1_scores = cross_val_score(model_1, x_train, y_train, cv = kf)\n",
    "model_1_cv_mean = np.mean(model_1_scores)\n",
    "\n",
    "# The accuracy score for each of the 5 folds\n",
    "print(model_1_scores)\n",
    "# The mean score of all 5 folds\n",
    "print(model_1_cv_mean)\n",
    "\n",
    "\n",
    "# when you need to use the y_train (label) and x_train (training data)? you need to use them in training and CV"
   ]
  },
  {
   "cell_type": "code",
   "execution_count": 12,
   "metadata": {},
   "outputs": [
    {
     "name": "stdout",
     "output_type": "stream",
     "text": [
      "[0.97       0.97214286 0.975      0.97357143 0.97642857]\n",
      "0.9734285714285715\n"
     ]
    }
   ],
   "source": [
    "model_2_scores = cross_val_score(model_2, x_train, y_train, cv = kf)\n",
    "model_2_cv_mean = np.mean(model_2_scores)\n",
    "\n",
    "# The accuracy score for each of the 5 folds\n",
    "print(model_2_scores)\n",
    "# The mean score of all 5 folds\n",
    "print(model_2_cv_mean)"
   ]
  },
  {
   "cell_type": "code",
   "execution_count": 13,
   "metadata": {},
   "outputs": [
    {
     "data": {
      "text/plain": [
       "(0.9681428571428572, 0.9734285714285715)"
      ]
     },
     "execution_count": 13,
     "metadata": {},
     "output_type": "execute_result"
    }
   ],
   "source": [
    "# Model 2 is better\n",
    "model_1_cv_mean, model_2_cv_mean"
   ]
  },
  {
   "cell_type": "code",
   "execution_count": 15,
   "metadata": {},
   "outputs": [
    {
     "data": {
      "text/plain": [
       "0.971"
      ]
     },
     "execution_count": 15,
     "metadata": {},
     "output_type": "execute_result"
    }
   ],
   "source": [
    "# evaluate the performance with selected model\n",
    "# only in the test, you can use validation set as the evaluation\n",
    "# Find how well we do on a testing set\n",
    "accuracy_score = model_2.score(x_test, y_test)\n",
    "accuracy_score\n",
    "from sklearn.metrics import accuracy_score\n",
    "\n",
    "# Predict on our testing set\n",
    "y_pred = model_2.predict(x_test)\n",
    "\n",
    "# Compare my prediction with the actual data\n",
    "accuracy_score(y_pred, y_test)"
   ]
  },
  {
   "cell_type": "code",
   "execution_count": null,
   "metadata": {},
   "outputs": [],
   "source": []
  }
 ],
 "metadata": {
  "kernelspec": {
   "display_name": "Python 3",
   "language": "python",
   "name": "python3"
  },
  "language_info": {
   "codemirror_mode": {
    "name": "ipython",
    "version": 3
   },
   "file_extension": ".py",
   "mimetype": "text/x-python",
   "name": "python",
   "nbconvert_exporter": "python",
   "pygments_lexer": "ipython3",
   "version": "3.7.4"
  }
 },
 "nbformat": 4,
 "nbformat_minor": 2
}
